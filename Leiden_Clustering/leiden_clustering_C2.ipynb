{
 "cells": [
  {
   "cell_type": "code",
   "execution_count": null,
   "metadata": {},
   "outputs": [],
   "source": [
    "import matplotlib.pyplot as plt\n",
    "import numpy as np\n",
    "%matplotlib inline\n",
    "import mdtraj as md\n",
    "import mosaic\n",
    "from tqdm.auto import tqdm, trange\n",
    "#import pickle \n",
    "\n",
    "plt.rcParams.update({'font.size': 18})"
   ]
  },
  {
   "cell_type": "markdown",
   "metadata": {},
   "source": [
    "Loading the trajectory"
   ]
  },
  {
   "cell_type": "code",
   "execution_count": null,
   "metadata": {},
   "outputs": [],
   "source": [
    "### THE TRAJECTORY IS CALLED C1, BUT THIS IS THE NEW C2! \n",
    "### THE ONE WHERE THE LIGAND LEAVES FROM TOP OF PROT"
   ]
  },
  {
   "cell_type": "code",
   "execution_count": null,
   "metadata": {},
   "outputs": [],
   "source": [
    "traj= md.load(\"../C1_TRAJ_it986_seg350.nc\", top=\"../ired.prmtop\")\n",
    "traj1=traj[0:1400] ## bound + transient state\n",
    "traj,traj1"
   ]
  },
  {
   "cell_type": "markdown",
   "metadata": {},
   "source": [
    "Creation of a new trajectory containing only the heavy atoms of the protein "
   ]
  },
  {
   "cell_type": "code",
   "execution_count": null,
   "metadata": {},
   "outputs": [],
   "source": [
    "aln = traj1.top.select('protein and not (element H or resid 0)')\n",
    "traj_prot = traj1.atom_slice(aln)\n",
    "traj_prot"
   ]
  },
  {
   "cell_type": "markdown",
   "metadata": {},
   "source": [
    "## Calculation of all contacts between the heavy atoms of the protein.\n",
    "\n",
    "*dist_idx* is an array containing index pairs (indexed to 0) of residues from which to compute contacts. \n",
    "The string 'all' will select all pairs of residues separated by two or more residues (i.e., pairs i-i+1 and i-i+2 will be excluded).\n",
    "\n",
    "*dist_pairs* is an array containing the value of distances between pairs of residues in nm\n"
   ]
  },
  {
   "cell_type": "code",
   "execution_count": null,
   "metadata": {},
   "outputs": [],
   "source": [
    "%%time \n",
    "dist_pairs, dist_idx = md.compute_contacts(traj_prot, contacts='all', scheme='closest-heavy')"
   ]
  },
  {
   "cell_type": "markdown",
   "metadata": {},
   "source": [
    "## Computation of the Chi1 angles \n",
    "The angle is expressed in *radiants*. In this specific case:\n",
    "- _chi1_idx(n_chi, 4)_ contains the indices of the atoms involved in each of the chi1 dihedral angles.\n",
    "- _chi1(n_frames, n_chi)_ contains the value of the dihedral angle for each of the angles in each of the frames."
   ]
  },
  {
   "cell_type": "code",
   "execution_count": null,
   "metadata": {},
   "outputs": [],
   "source": [
    "chi1_idx,chi1=md.compute_chi1(traj_prot)"
   ]
  },
  {
   "cell_type": "code",
   "execution_count": null,
   "metadata": {},
   "outputs": [],
   "source": [
    "print(chi1_idx.shape)\n",
    "print(chi1.shape) "
   ]
  },
  {
   "cell_type": "markdown",
   "metadata": {},
   "source": [
    "## Selection of relevant contacts"
   ]
  },
  {
   "cell_type": "markdown",
   "metadata": {},
   "source": [
    "We will now filter these two matrices. We need to consider only those pairs of residues that are in contact (distance <= 0.45 nm) for at least 10% of the total simulation time."
   ]
  },
  {
   "cell_type": "markdown",
   "metadata": {},
   "source": [
    "In the first step we will create a shape matrix(n_frames,n_contacs) filled with values 0 or 1. \n",
    "If the distance is less than 0.45 nm, the value will be 0, otherwise 1."
   ]
  },
  {
   "cell_type": "code",
   "execution_count": null,
   "metadata": {},
   "outputs": [],
   "source": [
    "arr=np.zeros((dist_pairs.shape[0],dist_pairs.shape[1] ))\n",
    "arr_cont=np.zeros((dist_pairs.shape[0],dist_pairs.shape[1] ))\n",
    "\n",
    "for i in trange(dist_pairs.shape[0]):                      \n",
    "    for j in np.arange(dist_pairs.shape[1]):\n",
    "        if dist_pairs[i,j] <= 0.45:\n",
    "            arr_cont[i,j] = 1"
   ]
  },
  {
   "cell_type": "markdown",
   "metadata": {},
   "source": [
    "To have an idea of the persistance of contacts during the simulation, we calculate the mean which will assume a value between 0 and 1"
   ]
  },
  {
   "cell_type": "code",
   "execution_count": null,
   "metadata": {},
   "outputs": [],
   "source": [
    "mean=np.average(arr_cont, axis=0)"
   ]
  },
  {
   "cell_type": "markdown",
   "metadata": {},
   "source": [
    "Now we create a list with the indeces of the pairwise contacts that are conserved for at least the 10% of the simulation time.\n",
    "These residues will be used for the Leiden Clustering"
   ]
  },
  {
   "cell_type": "code",
   "execution_count": null,
   "metadata": {},
   "outputs": [],
   "source": [
    "list_id=[]\n",
    "for idx, cont in enumerate(mean):                       \n",
    "    if cont > 0.1:\n",
    "        list_id.append(idx)"
   ]
  },
  {
   "cell_type": "code",
   "execution_count": null,
   "metadata": {},
   "outputs": [],
   "source": [
    "len(list_id)"
   ]
  },
  {
   "cell_type": "markdown",
   "metadata": {},
   "source": [
    "At this point we need to generate the input for Leiden Clustering. \n",
    "We need to filter the contact array *dist_pairs*, keeping only those columns (distances) whose index is contained in *list_id*.\n",
    "\n",
    "This step is the longest, so it might be a good idea to save the generated matrix"
   ]
  },
  {
   "cell_type": "code",
   "execution_count": null,
   "metadata": {},
   "outputs": [],
   "source": [
    "dist_idx.shape, dist_pairs.shape[0]"
   ]
  },
  {
   "cell_type": "code",
   "execution_count": null,
   "metadata": {},
   "outputs": [],
   "source": [
    "final=np.zeros((dist_pairs.shape[0], len(list_id)))   \n",
    "for i in trange(dist_pairs.shape[0]):\n",
    "    count = 0\n",
    "    for j in np.arange(dist_pairs.shape[1]):\n",
    "        if j in list_id:\n",
    "            final[i,count]=dist_pairs[i,j]\n",
    "            count= count+1\n",
    "            \n",
    "#np.save('path2_selected_contacts.npy', final)"
   ]
  },
  {
   "cell_type": "markdown",
   "metadata": {},
   "source": [
    "To retrieve the indices of the residue pairs, we must also filter the *dist_idx* file keeping only the pairs that are included in the *list_id*."
   ]
  },
  {
   "cell_type": "code",
   "execution_count": null,
   "metadata": {},
   "outputs": [],
   "source": [
    "final_idx=[]\n",
    "for i in trange(dist_idx.shape[0]):\n",
    "    if i in list_id:\n",
    "        final_idx.append(dist_idx[i])\n",
    "final_id=np.array(final_idx)\n",
    "#np.save('path2_selected_contacts_idx.npy', final_id)"
   ]
  },
  {
   "cell_type": "code",
   "execution_count": null,
   "metadata": {},
   "outputs": [],
   "source": [
    "#final=np.load('../../final_leiden/path2_selected_contacts.npy')\n",
    "#final_idx=np.load('../../final_leiden/path2_selected_contacts_idx.npy')"
   ]
  },
  {
   "cell_type": "markdown",
   "metadata": {},
   "source": [
    "## Contacts + chi1 angles\n",
    "\n",
    "Now I am creating an array by concatenating the arrays of distances and chi angles. The first has a shape of (3001, 346) and the second has a shape of (3001, 105). So the resulting array has a form of (3001, 451). \n",
    "\n",
    "Note that we cannot create the *total_idx* because the elements of the final_idx are pairs of residues, while the elements of the chi1_idx are the indices of the 4 atoms defining the chi1 angle. Therefore, the shapes of the two arrays are different and cannot be concatenated."
   ]
  },
  {
   "cell_type": "code",
   "execution_count": null,
   "metadata": {},
   "outputs": [],
   "source": [
    "total=np.concatenate((chi1,final), axis=1)"
   ]
  },
  {
   "cell_type": "code",
   "execution_count": null,
   "metadata": {},
   "outputs": [],
   "source": [
    "print(total.shape)\n",
    "print(final.shape)\n",
    "print(chi1.shape)"
   ]
  },
  {
   "cell_type": "code",
   "execution_count": null,
   "metadata": {},
   "outputs": [],
   "source": [
    "print(chi1_idx.shape)\n",
    "print(final_id.shape)"
   ]
  },
  {
   "cell_type": "markdown",
   "metadata": {},
   "source": [
    "## Leiden Clustering\n",
    "\n",
    "In the final step, the *final* file is passed as an argument to the *leiden* function to obtain the clusters"
   ]
  },
  {
   "cell_type": "code",
   "execution_count": null,
   "metadata": {},
   "outputs": [],
   "source": [
    "def leiden(trax, filename='leiden_'):\n",
    "    '''\n",
    "    docstring for leiden clustering \n",
    "    '''\n",
    "    \n",
    "    sim = mosaic.Similarity(metric='correlation')\n",
    "    sim.fit(trax)\n",
    "    clust=mosaic.Clustering(mode='CPM', resolution_parameter=0.5)\n",
    "    clust.fit(sim.matrix_)\n",
    "    clusters=clust.clusters_\n",
    "    #clustered_X=clust.matrix_\n",
    "    #ticks=clust.ticks_\n",
    "    #labels=clust.labels_\n",
    "    #with open(f'/home/riccardo529cp/compchem/HIF/analysis/leiden_cont_protein/{filename}.pickle', \"wb\") as file:        \n",
    "    #    pickle.dump (clustered_X, file)\n",
    "    return clusters #, clustered_X, ticks, labels"
   ]
  },
  {
   "cell_type": "code",
   "execution_count": null,
   "metadata": {},
   "outputs": [],
   "source": [
    "%%time\n",
    "path2_clusters = leiden(total, filename='path1')  ## cleaned"
   ]
  },
  {
   "cell_type": "markdown",
   "metadata": {},
   "source": [
    "As reported in previous work, we will consider clusters containing more than 3 coordinates as \"main clusters\""
   ]
  },
  {
   "cell_type": "code",
   "execution_count": null,
   "metadata": {},
   "outputs": [],
   "source": [
    "main_clusters=[]\n",
    "for i in path2_clusters:\n",
    "    if len(i) >= 3:\n",
    "        main_clusters.append(i)\n",
    "main_clust=np.asarray(main_clusters)"
   ]
  },
  {
   "cell_type": "code",
   "execution_count": null,
   "metadata": {},
   "outputs": [],
   "source": [
    "print(\"The correlated residues were clustered in\", main_clust.shape[0], \"groups.\")\n",
    "#print(main_clust)"
   ]
  },
  {
   "cell_type": "markdown",
   "metadata": {},
   "source": [
    "Now the goal is to retrieve the indices of the residues in each cluster so that we can display them in VMD. However, as explained above, we cannot create the *total_idx* array. \n",
    "\n",
    "So we convert the clusters of four atoms forming each chi1 corner into the index of the residue (to make it consistent with the final_idx)."
   ]
  },
  {
   "cell_type": "code",
   "execution_count": null,
   "metadata": {},
   "outputs": [],
   "source": [
    "chi_atoms=chi1_idx[:,0]\n",
    "chi_residues=[]\n",
    "\n",
    "for i in chi_atoms:\n",
    "    chi_residues.append((traj_prot.top.atom(i).residue.index)-1)\n",
    "    \n",
    "chi_res=np.array(chi_residues)"
   ]
  },
  {
   "cell_type": "code",
   "execution_count": null,
   "metadata": {},
   "outputs": [],
   "source": [
    "len(chi_residues)"
   ]
  },
  {
   "cell_type": "markdown",
   "metadata": {},
   "source": [
    "Here we want to put all the elements of a specific cluster into a list (contacts or corners). Since the first 105 elements of the *total* array (from which *main_clust* is derived) are corners and the others are contacts, we will look for the indices of the residuals in the *chi_res* array and then in the *final_idx* array."
   ]
  },
  {
   "cell_type": "code",
   "execution_count": null,
   "metadata": {},
   "outputs": [],
   "source": [
    "# Initialize a dictionary to hold the clusters\n",
    "clusters = {f'cluster{i+1}': [] for i in range(main_clust.shape[0])}\n",
    "\n",
    "# Loop through each cluster in main_clust\n",
    "for idx, cluster in enumerate(main_clust):\n",
    "    for i in cluster:\n",
    "        # Determine which array to append to based on the value of i\n",
    "        if i < len(chi_residues):\n",
    "            clusters[f'cluster{idx+1}'].append(chi_res[i])\n",
    "        else:\n",
    "            j = i - len(chi_residues)\n",
    "            clusters[f'cluster{idx+1}'].append(final_idx[j])\n",
    "\n",
    "# Now clusters is a dictionary with each cluster data"
   ]
  },
  {
   "cell_type": "code",
   "execution_count": null,
   "metadata": {},
   "outputs": [],
   "source": [
    "clusters['cluster1']"
   ]
  },
  {
   "cell_type": "markdown",
   "metadata": {},
   "source": [
    "Residues in clusters are 0-indexed. To visualize them, we want them to be 2-indexed (since ligand is residue #1) "
   ]
  },
  {
   "cell_type": "code",
   "execution_count": null,
   "metadata": {},
   "outputs": [],
   "source": [
    "vmd_resid = {f'vmd_resid_cluster{i+1}': [] for i in range(main_clust.shape[0])}\n",
    "\n",
    "for i in range(main_clust.shape[0]):\n",
    "    vmd_resid[f'vmd_resid_cluster{i+1}'] = np.array([j+2 for j in clusters[f'cluster{i+1}']])"
   ]
  },
  {
   "cell_type": "code",
   "execution_count": null,
   "metadata": {},
   "outputs": [],
   "source": [
    "vmd_resid"
   ]
  },
  {
   "cell_type": "code",
   "execution_count": null,
   "metadata": {},
   "outputs": [],
   "source": [
    "for i in range(main_clust.shape[0]):\n",
    "    if(len(vmd_resid[f'vmd_resid_cluster{i+1}']) > 3):\n",
    "        print(i,vmd_resid[f'vmd_resid_cluster{i+1}'])\n",
    "        print('\\n')"
   ]
  },
  {
   "cell_type": "markdown",
   "metadata": {},
   "source": [
    "# Script for automatic generation of tcl script for displaying networks of correlated motions\n",
    "\n",
    "- In the first part of the cell, I extracted the CA coordinates from the reference pdb structure (ref_real.pdb).\n",
    "- In the second part, I added all the necessary lines to display the cylinders connecting the correlated residuals to the motions. For some reason, the i-th element of the *vmd_resid_cluster1* corresponds to the (i - 2)th element of the *xyz* dataset."
   ]
  },
  {
   "cell_type": "code",
   "execution_count": null,
   "metadata": {},
   "outputs": [],
   "source": [
    "pdb_file = \"reference.pdb\"\n",
    "\n",
    "with open(pdb_file, \"r\") as pdb:\n",
    "    pdb_lines = pdb.readlines()\n",
    "    xyz = [k.rsplit()[5:8] for k in pdb_lines[1:] if \"CA\" in k]\n",
    "\n",
    "with open('allo_C2.tcl', \"w\") as tcl:\n",
    "    tcl.write(\"draw delete all \\n\")\n",
    "    clusters = [\n",
    "        \n",
    "        (vmd_resid['vmd_resid_cluster1'], \"red\"),\n",
    "        (vmd_resid['vmd_resid_cluster2'], \"cyan\"),\n",
    "        (vmd_resid['vmd_resid_cluster3'], \"yellow\"),\n",
    "        (vmd_resid['vmd_resid_cluster4'], \"blue2\")\n",
    "    ]\n",
    "    for i, (cluster_idx, color) in enumerate(clusters, start=1):\n",
    "        tcl.write(f\"\\n #cluster{i} \\n\")\n",
    "        tcl.write(\"draw material Diffuse \\n\")\n",
    "        tcl.write(f\"draw color {color} \\n\")\n",
    "        for j, idx in enumerate(cluster_idx):\n",
    "            if isinstance(idx, np.ndarray):\n",
    "                x1, y1, z1 = xyz[idx[0] - 2]\n",
    "                x2, y2, z2 = xyz[idx[1] - 2]\n",
    "                tcl.write(f\"draw cylinder {{{x1} {y1} {z1}}} {{{x2} {y2} {z2}}} radius 0.3 \\n\")"
   ]
  },
  {
   "cell_type": "code",
   "execution_count": null,
   "metadata": {},
   "outputs": [],
   "source": []
  }
 ],
 "metadata": {
  "kernelspec": {
   "display_name": "westpa2",
   "language": "python",
   "name": "westpa2"
  },
  "language_info": {
   "codemirror_mode": {
    "name": "ipython",
    "version": 3
   },
   "file_extension": ".py",
   "mimetype": "text/x-python",
   "name": "python",
   "nbconvert_exporter": "python",
   "pygments_lexer": "ipython3",
   "version": "3.9.7"
  },
  "vscode": {
   "interpreter": {
    "hash": "cbf0ee130c995b13374e3b8fe95bd0efb50e8491e28ba082224bd567beb2c65e"
   }
  }
 },
 "nbformat": 4,
 "nbformat_minor": 4
}
