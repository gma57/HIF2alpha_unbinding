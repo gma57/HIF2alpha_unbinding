{
 "cells": [
  {
   "cell_type": "markdown",
   "metadata": {},
   "source": [
    "# Loading data"
   ]
  },
  {
   "cell_type": "code",
   "execution_count": 1,
   "metadata": {
    "tags": []
   },
   "outputs": [],
   "source": [
    "import numpy as np\n",
    "from matplotlib import pyplot as plt\n",
    "import h5py\n",
    "import tqdm.auto"
   ]
  },
  {
   "cell_type": "code",
   "execution_count": 2,
   "metadata": {
    "tags": []
   },
   "outputs": [],
   "source": [
    "from msm_we import msm_we\n",
    "import mdtraj as md"
   ]
  },
  {
   "cell_type": "code",
   "execution_count": 3,
   "metadata": {},
   "outputs": [],
   "source": [
    "#ray.shutdown()"
   ]
  },
  {
   "cell_type": "code",
   "execution_count": 4,
   "metadata": {},
   "outputs": [
    {
     "name": "stderr",
     "output_type": "stream",
     "text": [
      "2024-02-12 05:32:13,711\tINFO worker.py:1616 -- Started a local Ray instance. View the dashboard at \u001b[1m\u001b[32m127.0.0.1:8265 \u001b[39m\u001b[22m\n"
     ]
    },
    {
     "data": {
      "text/html": [
       "<div>\n",
       "    <div style=\"margin-left: 50px;display: flex;flex-direction: row;align-items: center\">\n",
       "        <h3 style=\"color: var(--jp-ui-font-color0)\">Ray</h3>\n",
       "        <svg version=\"1.1\" id=\"ray\" width=\"3em\" viewBox=\"0 0 144.5 144.6\" style=\"margin-left: 3em;margin-right: 3em\">\n",
       "            <g id=\"layer-1\">\n",
       "                <path fill=\"#00a2e9\" class=\"st0\" d=\"M97.3,77.2c-3.8-1.1-6.2,0.9-8.3,5.1c-3.5,6.8-9.9,9.9-17.4,9.6S58,88.1,54.8,81.2c-1.4-3-3-4-6.3-4.1\n",
       "                    c-5.6-0.1-9.9,0.1-13.1,6.4c-3.8,7.6-13.6,10.2-21.8,7.6C5.2,88.4-0.4,80.5,0,71.7c0.1-8.4,5.7-15.8,13.8-18.2\n",
       "                    c8.4-2.6,17.5,0.7,22.3,8c1.3,1.9,1.3,5.2,3.6,5.6c3.9,0.6,8,0.2,12,0.2c1.8,0,1.9-1.6,2.4-2.8c3.5-7.8,9.7-11.8,18-11.9\n",
       "                    c8.2-0.1,14.4,3.9,17.8,11.4c1.3,2.8,2.9,3.6,5.7,3.3c1-0.1,2,0.1,3,0c2.8-0.5,6.4,1.7,8.1-2.7s-2.3-5.5-4.1-7.5\n",
       "                    c-5.1-5.7-10.9-10.8-16.1-16.3C84,38,81.9,37.1,78,38.3C66.7,42,56.2,35.7,53,24.1C50.3,14,57.3,2.8,67.7,0.5\n",
       "                    C78.4-2,89,4.7,91.5,15.3c0.1,0.3,0.1,0.5,0.2,0.8c0.7,3.4,0.7,6.9-0.8,9.8c-1.7,3.2-0.8,5,1.5,7.2c6.7,6.5,13.3,13,19.8,19.7\n",
       "                    c1.8,1.8,3,2.1,5.5,1.2c9.1-3.4,17.9-0.6,23.4,7c4.8,6.9,4.6,16.1-0.4,22.9c-5.4,7.2-14.2,9.9-23.1,6.5c-2.3-0.9-3.5-0.6-5.1,1.1\n",
       "                    c-6.7,6.9-13.6,13.7-20.5,20.4c-1.8,1.8-2.5,3.2-1.4,5.9c3.5,8.7,0.3,18.6-7.7,23.6c-7.9,5-18.2,3.8-24.8-2.9\n",
       "                    c-6.4-6.4-7.4-16.2-2.5-24.3c4.9-7.8,14.5-11,23.1-7.8c3,1.1,4.7,0.5,6.9-1.7C91.7,98.4,98,92.3,104.2,86c1.6-1.6,4.1-2.7,2.6-6.2\n",
       "                    c-1.4-3.3-3.8-2.5-6.2-2.6C99.8,77.2,98.9,77.2,97.3,77.2z M72.1,29.7c5.5,0.1,9.9-4.3,10-9.8c0-0.1,0-0.2,0-0.3\n",
       "                    C81.8,14,77,9.8,71.5,10.2c-5,0.3-9,4.2-9.3,9.2c-0.2,5.5,4,10.1,9.5,10.3C71.8,29.7,72,29.7,72.1,29.7z M72.3,62.3\n",
       "                    c-5.4-0.1-9.9,4.2-10.1,9.7c0,0.2,0,0.3,0,0.5c0.2,5.4,4.5,9.7,9.9,10c5.1,0.1,9.9-4.7,10.1-9.8c0.2-5.5-4-10-9.5-10.3\n",
       "                    C72.6,62.3,72.4,62.3,72.3,62.3z M115,72.5c0.1,5.4,4.5,9.7,9.8,9.9c5.6-0.2,10-4.8,10-10.4c-0.2-5.4-4.6-9.7-10-9.7\n",
       "                    c-5.3-0.1-9.8,4.2-9.9,9.5C115,72.1,115,72.3,115,72.5z M19.5,62.3c-5.4,0.1-9.8,4.4-10,9.8c-0.1,5.1,5.2,10.4,10.2,10.3\n",
       "                    c5.6-0.2,10-4.9,9.8-10.5c-0.1-5.4-4.5-9.7-9.9-9.6C19.6,62.3,19.5,62.3,19.5,62.3z M71.8,134.6c5.9,0.2,10.3-3.9,10.4-9.6\n",
       "                    c0.5-5.5-3.6-10.4-9.1-10.8c-5.5-0.5-10.4,3.6-10.8,9.1c0,0.5,0,0.9,0,1.4c-0.2,5.3,4,9.8,9.3,10\n",
       "                    C71.6,134.6,71.7,134.6,71.8,134.6z\"/>\n",
       "            </g>\n",
       "        </svg>\n",
       "        <table>\n",
       "            <tr>\n",
       "                <td style=\"text-align: left\"><b>Python version:</b></td>\n",
       "                <td style=\"text-align: left\"><b>3.10.11</b></td>\n",
       "            </tr>\n",
       "            <tr>\n",
       "                <td style=\"text-align: left\"><b>Ray version:</b></td>\n",
       "                <td style=\"text-align: left\"><b> 2.4.0</b></td>\n",
       "            </tr>\n",
       "            <tr>\n",
       "    <td style=\"text-align: left\"><b>Dashboard:</b></td>\n",
       "    <td style=\"text-align: left\"><b><a href=\"http://127.0.0.1:8265\" target=\"_blank\">http://127.0.0.1:8265</a></b></td>\n",
       "</tr>\n",
       "\n",
       "        </table>\n",
       "    </div>\n",
       "</div>\n"
      ],
      "text/plain": [
       "RayContext(dashboard_url='127.0.0.1:8265', python_version='3.10.11', ray_version='2.4.0', ray_commit='4479f66d4db967d3c9dd0af2572061276ba926ba', address_info={'node_ip_address': '10.220.99.14', 'raylet_ip_address': '10.220.99.14', 'redis_address': None, 'object_store_address': '/tmp/ray/session_2024-02-12_05-32-04_094314_246655/sockets/plasma_store', 'raylet_socket_name': '/tmp/ray/session_2024-02-12_05-32-04_094314_246655/sockets/raylet', 'webui_url': '127.0.0.1:8265', 'session_dir': '/tmp/ray/session_2024-02-12_05-32-04_094314_246655', 'metrics_export_port': 62509, 'gcs_address': '10.220.99.14:62766', 'address': '10.220.99.14:62766', 'dashboard_agent_listen_port': 52365, 'node_id': '8c5e2305d4fcc75514afe831a4765c1fb1da6afe5cadafde63273367'})"
      ]
     },
     "execution_count": 4,
     "metadata": {},
     "output_type": "execute_result"
    }
   ],
   "source": [
    "import ray\n",
    "ray.init()"
   ]
  },
  {
   "cell_type": "code",
   "execution_count": 5,
   "metadata": {
    "tags": []
   },
   "outputs": [],
   "source": [
    "import logging\n",
    "from rich.logging import RichHandler\n",
    "log = logging.getLogger()\n",
    "log.addHandler(RichHandler())\n",
    "\n",
    "msm_log = logging.getLogger(\"msm_we.msm_we\")"
   ]
  },
  {
   "cell_type": "code",
   "execution_count": 6,
   "metadata": {},
   "outputs": [],
   "source": [
    "logging.getLogger('msm_we.msm_we').setLevel('DEBUG')"
   ]
  },
  {
   "cell_type": "code",
   "execution_count": 7,
   "metadata": {},
   "outputs": [],
   "source": [
    "import westpa\n",
    "from westpa.core.binning import RectilinearBinMapper"
   ]
  },
  {
   "cell_type": "code",
   "execution_count": 8,
   "metadata": {},
   "outputs": [],
   "source": [
    "def processCoordinates(self, coords):\n",
    "#     log.debug(\"Processing coordinates\")\n",
    "\n",
    "    if self.dimReduceMethod == \"none\":\n",
    "        xt = md.Trajectory(xyz=coords, topology=None)\n",
    "        indCA = self.reference_structure.topology.select(\"name CA\")\n",
    "        indAlign = self.reference_structure.topology.select(\"name CA\")\n",
    "        x2 = xt.superpose(self.reference_structure,atom_indices=indAlign)\n",
    "        coords = x2._xyz.astype('float64')\n",
    "        nA = np.shape(indCA)[0]\n",
    "        nC = np.shape(coords)[0]\n",
    "        new_coords = coords[:,tuple(indCA),:]\n",
    "        #new_coords = np.double(new_coords)\n",
    "        #new_coords = coords[:, :923, :]\n",
    "        data = new_coords.reshape(nC, 3 * nA)\n",
    "        model.nAtoms = nA\n",
    "        return data\n",
    "\n",
    "    if self.dimReduceMethod == \"pca\" or self.dimReduceMethod == \"vamp\":\n",
    "\n",
    "        # Dimensionality reduction\n",
    "\n",
    "        xt = md.Trajectory(xyz=coords, topology=None)\n",
    "        #indCA = self.reference_structure.topology.select(\"not type H and (resid 5 to 17 or resid 23 to 35 \n",
    "        #or resid 40 to 53)\")\n",
    "        indCA = self.reference_structure.topology.select(\"name CA\")\n",
    "        pair1, pair2 = np.meshgrid(indCA, indCA, indexing=\"xy\")\n",
    "        indUT = np.where(np.triu(pair1, k=1) > 0)\n",
    "        pairs = np.transpose(np.array([pair1[indUT], pair2[indUT]])).astype(int)\n",
    "        dist = md.compute_distances(xt, pairs, periodic=True, opt=True)\n",
    "\n",
    "        return dist\n",
    "    \n",
    "msm_we.modelWE.processCoordinates = processCoordinates"
   ]
  },
  {
   "cell_type": "markdown",
   "metadata": {},
   "source": [
    "## Build block-wise haMSMs"
   ]
  },
  {
   "cell_type": "markdown",
   "metadata": {},
   "source": [
    "##### Build the model"
   ]
  },
  {
   "cell_type": "code",
   "execution_count": 9,
   "metadata": {},
   "outputs": [
    {
     "data": {
      "text/plain": [
       "'/home/marion_lab/Documents/HIF/hamsm/CompleteData_2Dpcoord/NewTest_PStoContactMap'"
      ]
     },
     "execution_count": 9,
     "metadata": {},
     "output_type": "execute_result"
    }
   ],
   "source": [
    "pwd"
   ]
  },
  {
   "cell_type": "code",
   "execution_count": 11,
   "metadata": {},
   "outputs": [
    {
     "data": {
      "text/html": [
       "<pre style=\"white-space:pre;overflow-x:auto;line-height:normal;font-family:Menlo,'DejaVu Sans Mono',consolas,'Courier New',monospace\">  Getting coordSet <span style=\"color: #729c1f; text-decoration-color: #729c1f\">━━━━━━━━━━━━━━━━━━━━━━━━━━━━━━━━━━━━━━━━</span> <span style=\"color: #800080; text-decoration-color: #800080\">100%</span> <span style=\"color: #008080; text-decoration-color: #008080\">0:00:00</span> <span style=\"color: #808000; text-decoration-color: #808000\">0:27:28</span>\n",
       "</pre>\n"
      ],
      "text/plain": [
       "  Getting coordSet \u001b[38;2;114;156;31m━━━━━━━━━━━━━━━━━━━━━━━━━━━━━━━━━━━━━━━━\u001b[0m \u001b[35m100%\u001b[0m \u001b[36m0:00:00\u001b[0m \u001b[33m0:27:28\u001b[0m\n"
      ]
     },
     "metadata": {},
     "output_type": "display_data"
    },
    {
     "data": {
      "text/html": [
       "<pre style=\"white-space:pre;overflow-x:auto;line-height:normal;font-family:Menlo,'DejaVu Sans Mono',consolas,'Courier New',monospace\"></pre>\n"
      ],
      "text/plain": []
     },
     "metadata": {},
     "output_type": "display_data"
    },
    {
     "data": {
      "text/html": [
       "<pre style=\"white-space:pre;overflow-x:auto;line-height:normal;font-family:Menlo,'DejaVu Sans Mono',consolas,'Courier New',monospace\">\n",
       "</pre>\n"
      ],
      "text/plain": [
       "\n"
      ]
     },
     "metadata": {},
     "output_type": "display_data"
    }
   ],
   "source": [
    "h5_glob = ['/media/extHDD/mls333/h5Files_1D_RMSD/data_pcoordRMSD/west_reduced_run1_1Dpcoord_RMSD_complete.h5',\n",
    "           '/media/extHDD/mls333/h5Files_1D_RMSD/data_pcoordRMSD/west_reduced_run2_1Dpcoord_RMSD_complete.h5',\n",
    "           '/media/extHDD/mls333/h5Files_1D_RMSD/data_pcoordRMSD/west_reduced_run3_1Dpcoord_RMSD_complete.h5']\n",
    "\n",
    "model =  msm_we.modelWE()\n",
    "model.initialize(\n",
    "    fileSpecifier=h5_glob, \n",
    "    refPDBfile = '../../ref_strip.pdb',\n",
    "    modelName = 'HIF2a',\n",
    "    target_pcoord_bounds = [[15.0, np.inf]],\n",
    "    basis_pcoord_bounds  = [[0.0, 3.0]],\n",
    "    dim_reduce_method = 'none',\n",
    "    tau = 1e-10,\n",
    "    pcoord_ndim = 1, \n",
    ")\n",
    "\n",
    "model.get_iterations()\n",
    "model.get_coordSet(model.maxIter)\n",
    "#model.get_traj_coordinates(from_iter=1.1:8265 , traj_le)"
   ]
  },
  {
   "cell_type": "code",
   "execution_count": 11,
   "metadata": {
    "tags": []
   },
   "outputs": [
    {
     "data": {
      "application/vnd.jupyter.widget-view+json": {
       "model_id": "a0a049c60c554fcaa62907c24186b917",
       "version_major": 2,
       "version_minor": 0
      },
      "text/plain": [
       "Output()"
      ]
     },
     "metadata": {},
     "output_type": "display_data"
    },
    {
     "data": {
      "text/html": [
       "<pre style=\"white-space:pre;overflow-x:auto;line-height:normal;font-family:Menlo,'DejaVu Sans Mono',consolas,'Courier New',monospace\"></pre>\n"
      ],
      "text/plain": []
     },
     "metadata": {},
     "output_type": "display_data"
    },
    {
     "data": {
      "text/html": [
       "<pre style=\"white-space:pre;overflow-x:auto;line-height:normal;font-family:Menlo,'DejaVu Sans Mono',consolas,'Courier New',monospace\">\n",
       "</pre>\n"
      ],
      "text/plain": [
       "\n"
      ]
     },
     "metadata": {},
     "output_type": "display_data"
    }
   ],
   "source": [
    "#h5_glob = ['west_reduced_run1.h5',]\n",
    "##h5_glob = ['restart3_scikit_nowat/run1/west.h5','restart3_scikit_nowat/run2/west.h5',\n",
    "#'restart3_scikit_nowat/run3/west.h5']\n",
    "\n",
    "#model =  msm_we.modelWE()\n",
    "#model.initialize(\n",
    "#    fileSpecifier=h5_glob, \n",
    "#    refPDBfile = '../ref_strip.pdb',\n",
    "#    modelName = 'HIF2a',\n",
    "#    target_pcoord_bounds = [[300.0, np.inf], [10.0, np.inf], [10.0, np.inf]],\n",
    "#    basis_pcoord_bounds  = [[0.0, 280.], [0.0, 2.0], [0.0, 3.0]],\n",
    "#    dim_reduce_method = 'none',\n",
    "#    tau = 1e-10,\n",
    "#    pcoord_ndim = 3, \n",
    "#)\n",
    "\n",
    "#model.get_iterations()\n",
    "#model.get_coordSet(model.maxIter)\n",
    "#model.get_traj_coordinates(from_iter=1.1:8265 , traj_le)"
   ]
  },
  {
   "cell_type": "markdown",
   "metadata": {},
   "source": [
    "##### PCA on all the data"
   ]
  },
  {
   "cell_type": "code",
   "execution_count": 12,
   "metadata": {
    "tags": []
   },
   "outputs": [],
   "source": [
    "model.dimReduce()"
   ]
  },
  {
   "cell_type": "code",
   "execution_count": 13,
   "metadata": {},
   "outputs": [],
   "source": [
    "# For saving the clustered model data\n",
    "from pickle import dump\n",
    "with open('check1_T15ARMSD.pickle', 'wb') as fo:\n",
    "    dump(model, fo)"
   ]
  },
  {
   "cell_type": "code",
   "execution_count": 9,
   "metadata": {
    "scrolled": false
   },
   "outputs": [],
   "source": [
    "# For loading the clustered model data\n",
    "from pickle import load\n",
    "with open('check1_T15ARMSD.pickle', 'rb') as fo:\n",
    "    model = load(fo)"
   ]
  },
  {
   "cell_type": "code",
   "execution_count": 10,
   "metadata": {},
   "outputs": [
    {
     "data": {
      "text/plain": [
       "1000"
      ]
     },
     "execution_count": 10,
     "metadata": {},
     "output_type": "execute_result"
    }
   ],
   "source": [
    "model.maxIter"
   ]
  },
  {
   "cell_type": "markdown",
   "metadata": {},
   "source": [
    "##### Cluster on all the data, and store the original clustering."
   ]
  },
  {
   "cell_type": "code",
   "execution_count": 11,
   "metadata": {},
   "outputs": [
    {
     "data": {
      "text/plain": [
       "0.015625"
      ]
     },
     "execution_count": 11,
     "metadata": {},
     "output_type": "execute_result"
    }
   ],
   "source": [
    "0.03125/2"
   ]
  },
  {
   "cell_type": "code",
   "execution_count": 11,
   "metadata": {},
   "outputs": [
    {
     "data": {
      "text/plain": [
       "(array([12.  , 12.01, 12.02, 12.03, 12.04, 12.05, 12.06, 12.07, 12.08,\n",
       "        12.09, 12.1 , 12.11, 12.12, 12.13, 12.14, 12.15, 12.16, 12.17,\n",
       "        12.18, 12.19, 12.2 , 12.21, 12.22, 12.23, 12.24, 12.25, 12.26,\n",
       "        12.27, 12.28, 12.29, 12.3 , 12.31, 12.32, 12.33, 12.34, 12.35,\n",
       "        12.36, 12.37, 12.38, 12.39, 12.4 , 12.41, 12.42, 12.43, 12.44,\n",
       "        12.45, 12.46, 12.47, 12.48, 12.49, 12.5 , 12.51, 12.52, 12.53,\n",
       "        12.54, 12.55, 12.56, 12.57, 12.58, 12.59, 12.6 , 12.61, 12.62,\n",
       "        12.63, 12.64, 12.65, 12.66, 12.67, 12.68, 12.69, 12.7 , 12.71,\n",
       "        12.72, 12.73, 12.74, 12.75, 12.76, 12.77, 12.78, 12.79, 12.8 ,\n",
       "        12.81, 12.82, 12.83, 12.84, 12.85, 12.86, 12.87, 12.88, 12.89,\n",
       "        12.9 , 12.91, 12.92, 12.93, 12.94, 12.95, 12.96, 12.97, 12.98,\n",
       "        12.99, 13.  , 13.01, 13.02, 13.03, 13.04, 13.05, 13.06, 13.07,\n",
       "        13.08, 13.09, 13.1 , 13.11, 13.12, 13.13, 13.14, 13.15, 13.16,\n",
       "        13.17, 13.18, 13.19, 13.2 , 13.21, 13.22, 13.23, 13.24, 13.25,\n",
       "        13.26, 13.27, 13.28, 13.29, 13.3 , 13.31, 13.32, 13.33, 13.34,\n",
       "        13.35, 13.36, 13.37, 13.38, 13.39, 13.4 , 13.41, 13.42, 13.43,\n",
       "        13.44, 13.45, 13.46, 13.47, 13.48, 13.49, 13.5 , 13.51, 13.52,\n",
       "        13.53, 13.54, 13.55, 13.56, 13.57, 13.58, 13.59, 13.6 , 13.61,\n",
       "        13.62, 13.63, 13.64, 13.65, 13.66, 13.67, 13.68, 13.69, 13.7 ,\n",
       "        13.71, 13.72, 13.73, 13.74, 13.75, 13.76, 13.77, 13.78, 13.79,\n",
       "        13.8 , 13.81, 13.82, 13.83, 13.84, 13.85, 13.86, 13.87, 13.88,\n",
       "        13.89, 13.9 , 13.91, 13.92, 13.93, 13.94, 13.95, 13.96, 13.97,\n",
       "        13.98, 13.99, 14.  , 14.01, 14.02, 14.03, 14.04, 14.05, 14.06,\n",
       "        14.07, 14.08, 14.09, 14.1 , 14.11, 14.12, 14.13, 14.14, 14.15,\n",
       "        14.16, 14.17, 14.18, 14.19, 14.2 , 14.21, 14.22, 14.23, 14.24,\n",
       "        14.25, 14.26, 14.27, 14.28, 14.29, 14.3 , 14.31, 14.32, 14.33,\n",
       "        14.34, 14.35, 14.36, 14.37, 14.38, 14.39, 14.4 , 14.41, 14.42,\n",
       "        14.43, 14.44, 14.45, 14.46, 14.47, 14.48, 14.49, 14.5 , 14.51,\n",
       "        14.52, 14.53, 14.54, 14.55, 14.56, 14.57, 14.58, 14.59, 14.6 ,\n",
       "        14.61, 14.62, 14.63, 14.64, 14.65, 14.66, 14.67, 14.68, 14.69,\n",
       "        14.7 , 14.71, 14.72, 14.73, 14.74, 14.75, 14.76, 14.77, 14.78,\n",
       "        14.79, 14.8 , 14.81, 14.82, 14.83, 14.84, 14.85, 14.86, 14.87,\n",
       "        14.88, 14.89, 14.9 , 14.91, 14.92, 14.93, 14.94, 14.95, 14.96,\n",
       "        14.97, 14.98, 14.99]),\n",
       " (300,))"
      ]
     },
     "execution_count": 11,
     "metadata": {},
     "output_type": "execute_result"
    }
   ],
   "source": [
    "a3=np.arange(12,15,0.01)\n",
    "a3,a3.shape"
   ]
  },
  {
   "cell_type": "code",
   "execution_count": 12,
   "metadata": {},
   "outputs": [],
   "source": [
    "new_mapper = RectilinearBinMapper([[0, 3.  ,  3.01,  3.02,  3.03,  3.04,  3.05,  3.06,  3.07,  3.08,\n",
    "         3.09,  3.1 ,  3.11,  3.12,  3.13,  3.14,  3.15,  3.16,  3.17,\n",
    "         3.18,  3.19,  3.2 ,  3.21,  3.22,  3.23,  3.24,  3.25,  3.26,\n",
    "         3.27,  3.28,  3.29,  3.3 ,  3.31,  3.32,  3.33,  3.34,  3.35,\n",
    "         3.36,  3.37,  3.38,  3.39,  3.4 ,  3.41,  3.42,  3.43,  3.44,\n",
    "         3.45,  3.46,  3.47,  3.48,  3.49,  3.5 ,  3.51,  3.52,  3.53,\n",
    "         3.54,  3.55,  3.56,  3.57,  3.58,  3.59,  3.6 ,  3.61,  3.62,\n",
    "         3.63,  3.64,  3.65,  3.66,  3.67,  3.68,  3.69,  3.7 ,  3.71,\n",
    "         3.72,  3.73,  3.74,  3.75,  3.76,  3.77,  3.78,  3.79,  3.8 ,\n",
    "         3.81,  3.82,  3.83,  3.84,  3.85,  3.86,  3.87,  3.88,  3.89,\n",
    "         3.9 ,  3.91,  3.92,  3.93,  3.94,  3.95,  3.96,  3.97,  3.98,\n",
    "         3.99,  4.  ,  4.01,  4.02,  4.03,  4.04,  4.05,  4.06,  4.07,\n",
    "         4.08,  4.09,  4.1 ,  4.11,  4.12,  4.13,  4.14,  4.15,  4.16,\n",
    "         4.17,  4.18,  4.19,  4.2 ,  4.21,  4.22,  4.23,  4.24,  4.25,\n",
    "         4.26,  4.27,  4.28,  4.29,  4.3 ,  4.31,  4.32,  4.33,  4.34,\n",
    "         4.35,  4.36,  4.37,  4.38,  4.39,  4.4 ,  4.41,  4.42,  4.43,\n",
    "         4.44,  4.45,  4.46,  4.47,  4.48,  4.49,  4.5 ,  4.51,  4.52,\n",
    "         4.53,  4.54,  4.55,  4.56,  4.57,  4.58,  4.59,  4.6 ,  4.61,\n",
    "         4.62,  4.63,  4.64,  4.65,  4.66,  4.67,  4.68,  4.69,  4.7 ,\n",
    "         4.71,  4.72,  4.73,  4.74,  4.75,  4.76,  4.77,  4.78,  4.79,\n",
    "         4.8 ,  4.81,  4.82,  4.83,  4.84,  4.85,  4.86,  4.87,  4.88,\n",
    "         4.89,  4.9 ,  4.91,  4.92,  4.93,  4.94,  4.95,  4.96,  4.97,\n",
    "         4.98,  4.99,  5.  ,  5.01,  5.02,  5.03,  5.04,  5.05,  5.06,\n",
    "         5.07,  5.08,  5.09,  5.1 ,  5.11,  5.12,  5.13,  5.14,  5.15,\n",
    "         5.16,  5.17,  5.18,  5.19,  5.2 ,  5.21,  5.22,  5.23,  5.24,\n",
    "         5.25,  5.26,  5.27,  5.28,  5.29,  5.3 ,  5.31,  5.32,  5.33,\n",
    "         5.34,  5.35,  5.36,  5.37,  5.38,  5.39,  5.4 ,  5.41,  5.42,\n",
    "         5.43,  5.44,  5.45,  5.46,  5.47,  5.48,  5.49,  5.5 ,  5.51,\n",
    "         5.52,  5.53,  5.54,  5.55,  5.56,  5.57,  5.58,  5.59,  5.6 ,\n",
    "         5.61,  5.62,  5.63,  5.64,  5.65,  5.66,  5.67,  5.68,  5.69,\n",
    "         5.7 ,  5.71,  5.72,  5.73,  5.74,  5.75,  5.76,  5.77,  5.78,\n",
    "         5.79,  5.8 ,  5.81,  5.82,  5.83,  5.84,  5.85,  5.86,  5.87,\n",
    "         5.88,  5.89,  5.9 ,  5.91,  5.92,  5.93,  5.94,  5.95,  5.96,\n",
    "         5.97,  5.98,  5.99,  6.  ,  6.01,  6.02,  6.03,  6.04,  6.05,\n",
    "         6.06,  6.07,  6.08,  6.09,  6.1 ,  6.11,  6.12,  6.13,  6.14,\n",
    "         6.15,  6.16,  6.17,  6.18,  6.19,  6.2 ,  6.21,  6.22,  6.23,\n",
    "         6.24,  6.25,  6.26,  6.27,  6.28,  6.29,  6.3 ,  6.31,  6.32,\n",
    "         6.33,  6.34,  6.35,  6.36,  6.37,  6.38,  6.39,  6.4 ,  6.41,\n",
    "         6.42,  6.43,  6.44,  6.45,  6.46,  6.47,  6.48,  6.49,  6.5 ,\n",
    "         6.51,  6.52,  6.53,  6.54,  6.55,  6.56,  6.57,  6.58,  6.59,\n",
    "         6.6 ,  6.61,  6.62,  6.63,  6.64,  6.65,  6.66,  6.67,  6.68,\n",
    "         6.69,  6.7 ,  6.71,  6.72,  6.73,  6.74,  6.75,  6.76,  6.77,\n",
    "         6.78,  6.79,  6.8 ,  6.81,  6.82,  6.83,  6.84,  6.85,  6.86,\n",
    "         6.87,  6.88,  6.89,  6.9 ,  6.91,  6.92,  6.93,  6.94,  6.95,\n",
    "         6.96,  6.97,  6.98,  6.99,  7.  ,  7.01,  7.02,  7.03,  7.04,\n",
    "         7.05,  7.06,  7.07,  7.08,  7.09,  7.1 ,  7.11,  7.12,  7.13,\n",
    "         7.14,  7.15,  7.16,  7.17,  7.18,  7.19,  7.2 ,  7.21,  7.22,\n",
    "         7.23,  7.24,  7.25,  7.26,  7.27,  7.28,  7.29,  7.3 ,  7.31,\n",
    "         7.32,  7.33,  7.34,  7.35,  7.36,  7.37,  7.38,  7.39,  7.4 ,\n",
    "         7.41,  7.42,  7.43,  7.44,  7.45,  7.46,  7.47,  7.48,  7.49,\n",
    "         7.5 ,  7.51,  7.52,  7.53,  7.54,  7.55,  7.56,  7.57,  7.58,\n",
    "         7.59,  7.6 ,  7.61,  7.62,  7.63,  7.64,  7.65,  7.66,  7.67,\n",
    "         7.68,  7.69,  7.7 ,  7.71,  7.72,  7.73,  7.74,  7.75,  7.76,\n",
    "         7.77,  7.78,  7.79,  7.8 ,  7.81,  7.82,  7.83,  7.84,  7.85,\n",
    "         7.86,  7.87,  7.88,  7.89,  7.9 ,  7.91,  7.92,  7.93,  7.94,\n",
    "         7.95,  7.96,  7.97,  7.98,  7.99,  8.  ,  8.01,  8.02,  8.03,\n",
    "         8.04,  8.05,  8.06,  8.07,  8.08,  8.09,  8.1 ,  8.11,  8.12,\n",
    "         8.13,  8.14,  8.15,  8.16,  8.17,  8.18,  8.19,  8.2 ,  8.21,\n",
    "         8.22,  8.23,  8.24,  8.25,  8.26,  8.27,  8.28,  8.29,  8.3 ,\n",
    "         8.31,  8.32,  8.33,  8.34,  8.35,  8.36,  8.37,  8.38,  8.39,\n",
    "         8.4 ,  8.41,  8.42,  8.43,  8.44,  8.45,  8.46,  8.47,  8.48,\n",
    "         8.49,  8.5 ,  8.51,  8.52,  8.53,  8.54,  8.55,  8.56,  8.57,\n",
    "         8.58,  8.59,  8.6 ,  8.61,  8.62,  8.63,  8.64,  8.65,  8.66,\n",
    "         8.67,  8.68,  8.69,  8.7 ,  8.71,  8.72,  8.73,  8.74,  8.75,\n",
    "         8.76,  8.77,  8.78,  8.79,  8.8 ,  8.81,  8.82,  8.83,  8.84,\n",
    "         8.85,  8.86,  8.87,  8.88,  8.89,  8.9 ,  8.91,  8.92,  8.93,\n",
    "         8.94,  8.95,  8.96,  8.97,  8.98,  8.99,  9.  ,  9.01,  9.02,\n",
    "         9.03,  9.04,  9.05,  9.06,  9.07,  9.08,  9.09,  9.1 ,  9.11,\n",
    "         9.12,  9.13,  9.14,  9.15,  9.16,  9.17,  9.18,  9.19,  9.2 ,\n",
    "         9.21,  9.22,  9.23,  9.24,  9.25,  9.26,  9.27,  9.28,  9.29,\n",
    "         9.3 ,  9.31,  9.32,  9.33,  9.34,  9.35,  9.36,  9.37,  9.38,\n",
    "         9.39,  9.4 ,  9.41,  9.42,  9.43,  9.44,  9.45,  9.46,  9.47,\n",
    "         9.48,  9.49,  9.5 ,  9.51,  9.52,  9.53,  9.54,  9.55,  9.56,\n",
    "         9.57,  9.58,  9.59,  9.6 ,  9.61,  9.62,  9.63,  9.64,  9.65,\n",
    "         9.66,  9.67,  9.68,  9.69,  9.7 ,  9.71,  9.72,  9.73,  9.74,\n",
    "         9.75,  9.76,  9.77,  9.78,  9.79,  9.8 ,  9.81,  9.82,  9.83,\n",
    "         9.84,  9.85,  9.86,  9.87,  9.88,  9.89,  9.9 ,  9.91,  9.92,\n",
    "         9.93,  9.94,  9.95,  9.96,  9.97,  9.98,  9.99, 10.  , 10.01,\n",
    "        10.02, 10.03, 10.04, 10.05, 10.06, 10.07, 10.08, 10.09, 10.1 ,\n",
    "        10.11, 10.12, 10.13, 10.14, 10.15, 10.16, 10.17, 10.18, 10.19,\n",
    "        10.2 , 10.21, 10.22, 10.23, 10.24, 10.25, 10.26, 10.27, 10.28,\n",
    "        10.29, 10.3 , 10.31, 10.32, 10.33, 10.34, 10.35, 10.36, 10.37,\n",
    "        10.38, 10.39, 10.4 , 10.41, 10.42, 10.43, 10.44, 10.45, 10.46,\n",
    "        10.47, 10.48, 10.49, 10.5 , 10.51, 10.52, 10.53, 10.54, 10.55,\n",
    "        10.56, 10.57, 10.58, 10.59, 10.6 , 10.61, 10.62, 10.63, 10.64,\n",
    "        10.65, 10.66, 10.67, 10.68, 10.69, 10.7 , 10.71, 10.72, 10.73,\n",
    "        10.74, 10.75, 10.76, 10.77, 10.78, 10.79, 10.8 , 10.81, 10.82,\n",
    "        10.83, 10.84, 10.85, 10.86, 10.87, 10.88, 10.89, 10.9 , 10.91,\n",
    "        10.92, 10.93, 10.94, 10.95, 10.96, 10.97, 10.98, 10.99, 11.  ,\n",
    "        11.01, 11.02, 11.03, 11.04, 11.05, 11.06, 11.07, 11.08, 11.09,\n",
    "        11.1 , 11.11, 11.12, 11.13, 11.14, 11.15, 11.16, 11.17, 11.18,\n",
    "        11.19, 11.2 , 11.21, 11.22, 11.23, 11.24, 11.25, 11.26, 11.27,\n",
    "        11.28, 11.29, 11.3 , 11.31, 11.32, 11.33, 11.34, 11.35, 11.36,\n",
    "        11.37, 11.38, 11.39, 11.4 , 11.41, 11.42, 11.43, 11.44, 11.45,\n",
    "        11.46, 11.47, 11.48, 11.49, 11.5 , 11.51, 11.52, 11.53, 11.54,\n",
    "        11.55, 11.56, 11.57, 11.58, 11.59, 11.6 , 11.61, 11.62, 11.63,\n",
    "        11.64, 11.65, 11.66, 11.67, 11.68, 11.69, 11.7 , 11.71, 11.72,\n",
    "        11.73, 11.74, 11.75, 11.76, 11.77, 11.78, 11.79, 11.8 , 11.81,\n",
    "        11.82, 11.83, 11.84, 11.85, 11.86, 11.87, 11.88, 11.89, 11.9 ,\n",
    "        11.91, 11.92, 11.93, 11.94, 11.95, 11.96, 11.97, 11.98, 11.99, \n",
    "        12.  , 12.01, 12.02, 12.03, 12.04, 12.05, 12.06, 12.07, 12.08,\n",
    "        12.09, 12.1 , 12.11, 12.12, 12.13, 12.14, 12.15, 12.16, 12.17,\n",
    "        12.18, 12.19, 12.2 , 12.21, 12.22, 12.23, 12.24, 12.25, 12.26,\n",
    "        12.27, 12.28, 12.29, 12.3 , 12.31, 12.32, 12.33, 12.34, 12.35,\n",
    "        12.36, 12.37, 12.38, 12.39, 12.4 , 12.41, 12.42, 12.43, 12.44,\n",
    "        12.45, 12.46, 12.47, 12.48, 12.49, 12.5 , 12.51, 12.52, 12.53,\n",
    "        12.54, 12.55, 12.56, 12.57, 12.58, 12.59, 12.6 , 12.61, 12.62,\n",
    "        12.63, 12.64, 12.65, 12.66, 12.67, 12.68, 12.69, 12.7 , 12.71,\n",
    "        12.72, 12.73, 12.74, 12.75, 12.76, 12.77, 12.78, 12.79, 12.8 ,\n",
    "        12.81, 12.82, 12.83, 12.84, 12.85, 12.86, 12.87, 12.88, 12.89,\n",
    "        12.9 , 12.91, 12.92, 12.93, 12.94, 12.95, 12.96, 12.97, 12.98,\n",
    "        12.99, 13.  , 13.01, 13.02, 13.03, 13.04, 13.05, 13.06, 13.07,\n",
    "        13.08, 13.09, 13.1 , 13.11, 13.12, 13.13, 13.14, 13.15, 13.16,\n",
    "        13.17, 13.18, 13.19, 13.2 , 13.21, 13.22, 13.23, 13.24, 13.25,\n",
    "        13.26, 13.27, 13.28, 13.29, 13.3 , 13.31, 13.32, 13.33, 13.34,\n",
    "        13.35, 13.36, 13.37, 13.38, 13.39, 13.4 , 13.41, 13.42, 13.43,\n",
    "        13.44, 13.45, 13.46, 13.47, 13.48, 13.49, 13.5 , 13.51, 13.52,\n",
    "        13.53, 13.54, 13.55, 13.56, 13.57, 13.58, 13.59, 13.6 , 13.61,\n",
    "        13.62, 13.63, 13.64, 13.65, 13.66, 13.67, 13.68, 13.69, 13.7 ,\n",
    "        13.71, 13.72, 13.73, 13.74, 13.75, 13.76, 13.77, 13.78, 13.79,\n",
    "        13.8 , 13.81, 13.82, 13.83, 13.84, 13.85, 13.86, 13.87, 13.88,\n",
    "        13.89, 13.9 , 13.91, 13.92, 13.93, 13.94, 13.95, 13.96, 13.97,\n",
    "        13.98, 13.99, 14.  , 14.01, 14.02, 14.03, 14.04, 14.05, 14.06,\n",
    "        14.07, 14.08, 14.09, 14.1 , 14.11, 14.12, 14.13, 14.14, 14.15,\n",
    "        14.16, 14.17, 14.18, 14.19, 14.2 , 14.21, 14.22, 14.23, 14.24,\n",
    "        14.25, 14.26, 14.27, 14.28, 14.29, 14.3 , 14.31, 14.32, 14.33,\n",
    "        14.34, 14.35, 14.36, 14.37, 14.38, 14.39, 14.4 , 14.41, 14.42,\n",
    "        14.43, 14.44, 14.45, 14.46, 14.47, 14.48, 14.49, 14.5 , 14.51,\n",
    "        14.52, 14.53, 14.54, 14.55, 14.56, 14.57, 14.58, 14.59, 14.6 ,\n",
    "        14.61, 14.62, 14.63, 14.64, 14.65, 14.66, 14.67, 14.68, 14.69,\n",
    "        14.7 , 14.71, 14.72, 14.73, 14.74, 14.75, 14.76, 14.77, 14.78,\n",
    "        14.79, 14.8 , 14.81, 14.82, 14.83, 14.84, 14.85, 14.86, 14.87,\n",
    "        14.88, 14.89, 14.9 , 14.91, 14.92, 14.93, 14.94, 14.95, 14.96,\n",
    "        14.97, 14.98, 14.99, np.inf]]) "
   ]
  },
  {
   "cell_type": "markdown",
   "metadata": {},
   "source": [
    "##### Note that n_clusters is the number of clusters per WE bin under stratified clustering\n",
    "##### This performs \"stratified\" k-means clustering with 10 cluster centers in each WE bin, using streaming, with Ray for parallelism, and building the k-means model with iterations 20 and on to exclude some initial burn-in."
   ]
  },
  {
   "cell_type": "code",
   "execution_count": 13,
   "metadata": {
    "tags": []
   },
   "outputs": [
    {
     "data": {
      "text/html": [
       "<pre style=\"white-space:pre;overflow-x:auto;line-height:normal;font-family:Menlo,'DejaVu Sans Mono',consolas,'Courier New',monospace\">  Clustering <span style=\"color: #729c1f; text-decoration-color: #729c1f\">━━━━━━━━━━━━━━━━━━━━━━━━━━━━━━━━━━━━━━━━</span> <span style=\"color: #800080; text-decoration-color: #800080\">100%</span> <span style=\"color: #008080; text-decoration-color: #008080\">0:00:00</span> <span style=\"color: #808000; text-decoration-color: #808000\">1:15:18</span>\n",
       "</pre>\n"
      ],
      "text/plain": [
       "  Clustering \u001b[38;2;114;156;31m━━━━━━━━━━━━━━━━━━━━━━━━━━━━━━━━━━━━━━━━\u001b[0m \u001b[35m100%\u001b[0m \u001b[36m0:00:00\u001b[0m \u001b[33m1:15:18\u001b[0m\n"
      ]
     },
     "metadata": {},
     "output_type": "display_data"
    },
    {
     "data": {
      "text/html": [
       "<pre style=\"white-space:pre;overflow-x:auto;line-height:normal;font-family:Menlo,'DejaVu Sans Mono',consolas,'Courier New',monospace\"></pre>\n"
      ],
      "text/plain": []
     },
     "metadata": {},
     "output_type": "display_data"
    },
    {
     "data": {
      "text/html": [
       "<pre style=\"white-space:pre;overflow-x:auto;line-height:normal;font-family:Menlo,'DejaVu Sans Mono',consolas,'Courier New',monospace\">\n",
       "</pre>\n"
      ],
      "text/plain": [
       "\n"
      ]
     },
     "metadata": {},
     "output_type": "display_data"
    }
   ],
   "source": [
    "# Fresh clustering\n",
    "model.cluster_coordinates(n_clusters=1, tol = 1e-5, streaming=True, use_ray=True, user_bin_mapper=new_mapper, store_validation_model=True)"
   ]
  },
  {
   "cell_type": "code",
   "execution_count": 15,
   "metadata": {},
   "outputs": [],
   "source": [
    "# For loading the clustered model data\n",
    "#from pickle import load\n",
    "#with open('../until_it500/check2.pickle', 'rb') as fo:\n",
    "#    model = load(fo)"
   ]
  },
  {
   "cell_type": "code",
   "execution_count": 14,
   "metadata": {},
   "outputs": [],
   "source": [
    "# For saving the clustered model data\n",
    "from pickle import dump\n",
    "with open('check2_T15ARMSD.pickle', 'wb') as fo:\n",
    "    dump(model, fo)"
   ]
  },
  {
   "cell_type": "markdown",
   "metadata": {},
   "source": [
    "##### Create flux matrix"
   ]
  },
  {
   "cell_type": "code",
   "execution_count": 15,
   "metadata": {
    "scrolled": true
   },
   "outputs": [
    {
     "data": {
      "text/html": [
       "<pre style=\"white-space:pre;overflow-x:auto;line-height:normal;font-family:Menlo,'DejaVu Sans Mono',consolas,'Courier New',monospace\">  Retrieving fluxmatrix tasks <span style=\"color: #729c1f; text-decoration-color: #729c1f\">━━━━━━━━━━━━━━━━━━━━━━━━━━━━━━━━━━━━━━━━</span> <span style=\"color: #800080; text-decoration-color: #800080\">100%</span> <span style=\"color: #008080; text-decoration-color: #008080\">0:00:00</span> <span style=\"color: #808000; text-decoration-color: #808000\">0:00:03</span>\n",
       "</pre>\n"
      ],
      "text/plain": [
       "  Retrieving fluxmatrix tasks \u001b[38;2;114;156;31m━━━━━━━━━━━━━━━━━━━━━━━━━━━━━━━━━━━━━━━━\u001b[0m \u001b[35m100%\u001b[0m \u001b[36m0:00:00\u001b[0m \u001b[33m0:00:03\u001b[0m\n"
      ]
     },
     "metadata": {},
     "output_type": "display_data"
    },
    {
     "data": {
      "text/html": [
       "<pre style=\"white-space:pre;overflow-x:auto;line-height:normal;font-family:Menlo,'DejaVu Sans Mono',consolas,'Courier New',monospace\"></pre>\n"
      ],
      "text/plain": []
     },
     "metadata": {},
     "output_type": "display_data"
    },
    {
     "data": {
      "text/html": [
       "<pre style=\"white-space:pre;overflow-x:auto;line-height:normal;font-family:Menlo,'DejaVu Sans Mono',consolas,'Courier New',monospace\">\n",
       "</pre>\n"
      ],
      "text/plain": [
       "\n"
      ]
     },
     "metadata": {},
     "output_type": "display_data"
    }
   ],
   "source": [
    "model.get_fluxMatrix(0,1,1000,use_ray=True)"
   ]
  },
  {
   "cell_type": "code",
   "execution_count": 10,
   "metadata": {},
   "outputs": [],
   "source": [
    "# For loading the clustered model data\n",
    "#from pickle import load\n",
    "#with open('check3_540bins.pickle', 'rb') as fo:\n",
    "#    model = load(fo)"
   ]
  },
  {
   "cell_type": "code",
   "execution_count": 20,
   "metadata": {},
   "outputs": [],
   "source": [
    "# For saving the clustered model data\n",
    "#from pickle import dump\n",
    "#with open('check3.pickle', 'wb') as fo:\n",
    "#    dump(model, fo)"
   ]
  },
  {
   "cell_type": "code",
   "execution_count": 16,
   "metadata": {
    "scrolled": true
   },
   "outputs": [
    {
     "data": {
      "text/html": [
       "<pre style=\"white-space:pre;overflow-x:auto;line-height:normal;font-family:Menlo,'DejaVu Sans Mono',consolas,'Courier New',monospace\">  Retrieving fluxmatrix tasks <span style=\"color: #729c1f; text-decoration-color: #729c1f\">━━━━━━━━━━━━━━━━━━━━━━━━━━━━━━━━━━━━━━━━</span> <span style=\"color: #800080; text-decoration-color: #800080\">100%</span> <span style=\"color: #008080; text-decoration-color: #008080\">0:00:00</span> <span style=\"color: #808000; text-decoration-color: #808000\">0:00:03</span>\n",
       "</pre>\n"
      ],
      "text/plain": [
       "  Retrieving fluxmatrix tasks \u001b[38;2;114;156;31m━━━━━━━━━━━━━━━━━━━━━━━━━━━━━━━━━━━━━━━━\u001b[0m \u001b[35m100%\u001b[0m \u001b[36m0:00:00\u001b[0m \u001b[33m0:00:03\u001b[0m\n"
      ]
     },
     "metadata": {},
     "output_type": "display_data"
    },
    {
     "data": {
      "text/html": [
       "<pre style=\"white-space:pre;overflow-x:auto;line-height:normal;font-family:Menlo,'DejaVu Sans Mono',consolas,'Courier New',monospace\"></pre>\n"
      ],
      "text/plain": []
     },
     "metadata": {},
     "output_type": "display_data"
    },
    {
     "data": {
      "text/html": [
       "<pre style=\"white-space:pre;overflow-x:auto;line-height:normal;font-family:Menlo,'DejaVu Sans Mono',consolas,'Courier New',monospace\">\n",
       "</pre>\n"
      ],
      "text/plain": [
       "\n"
      ]
     },
     "metadata": {},
     "output_type": "display_data"
    },
    {
     "data": {
      "text/html": [
       "<pre style=\"white-space:pre;overflow-x:auto;line-height:normal;font-family:Menlo,'DejaVu Sans Mono',consolas,'Courier New',monospace\"><span style=\"color: #7fbfbf; text-decoration-color: #7fbfbf\">[12/13/23 10:46:29] </span><span style=\"color: #000080; text-decoration-color: #000080\">INFO    </span> Note: Sorting bins, assuming that pcoord <span style=\"color: #008080; text-decoration-color: #008080; font-weight: bold\">0</span> is meaningful for       <a href=\"file:///home/marion_lab/Apps/msm_we/msm_we/_hamsm/_clustering.py\" target=\"_blank\"><span style=\"color: #7f7f7f; text-decoration-color: #7f7f7f\">_clustering.py</span></a><span style=\"color: #7f7f7f; text-decoration-color: #7f7f7f\">:</span><a href=\"file:///home/marion_lab/Apps/msm_we/msm_we/_hamsm/_clustering.py#1643\" target=\"_blank\"><span style=\"color: #7f7f7f; text-decoration-color: #7f7f7f\">1643</span></a>\n",
       "<span style=\"color: #7fbfbf; text-decoration-color: #7fbfbf\">                    </span>         sorting                                                            <span style=\"color: #7f7f7f; text-decoration-color: #7f7f7f\">                   </span>\n",
       "</pre>\n"
      ],
      "text/plain": [
       "\u001b[2;36m[12/13/23 10:46:29]\u001b[0m\u001b[2;36m \u001b[0m\u001b[34mINFO    \u001b[0m Note: Sorting bins, assuming that pcoord \u001b[1;36m0\u001b[0m is meaningful for       \u001b]8;id=383979;file:///home/marion_lab/Apps/msm_we/msm_we/_hamsm/_clustering.py\u001b\\\u001b[2m_clustering.py\u001b[0m\u001b]8;;\u001b\\\u001b[2m:\u001b[0m\u001b]8;id=875775;file:///home/marion_lab/Apps/msm_we/msm_we/_hamsm/_clustering.py#1643\u001b\\\u001b[2m1643\u001b[0m\u001b]8;;\u001b\\\n",
       "\u001b[2;36m                    \u001b[0m         sorting                                                            \u001b[2m                   \u001b[0m\n"
      ]
     },
     "metadata": {},
     "output_type": "display_data"
    }
   ],
   "source": [
    "model.organize_fluxMatrix(use_ray=True)"
   ]
  },
  {
   "cell_type": "code",
   "execution_count": 28,
   "metadata": {},
   "outputs": [],
   "source": [
    "# For loading the clustered model data\n",
    "from pickle import load\n",
    "with open('check3_T15ARMSD.pickle', 'rb') as fo:\n",
    "    model = load(fo)"
   ]
  },
  {
   "cell_type": "code",
   "execution_count": 17,
   "metadata": {},
   "outputs": [],
   "source": [
    "# For saving the clustered model data\n",
    "from pickle import dump\n",
    "with open('check3_T15ARMSD.pickle', 'wb') as fo:\n",
    "    dump(model, fo)"
   ]
  },
  {
   "cell_type": "code",
   "execution_count": 29,
   "metadata": {},
   "outputs": [],
   "source": [
    "model.get_Tmatrix()"
   ]
  },
  {
   "cell_type": "code",
   "execution_count": 30,
   "metadata": {
    "scrolled": true
   },
   "outputs": [
    {
     "data": {
      "text/plain": [
       "array([[3.86413850e-06, 7.66979595e-02, 1.93576214e-05, ...,\n",
       "        0.00000000e+00, 1.88339284e-02, 0.00000000e+00],\n",
       "       [1.21268912e-05, 2.59871284e-05, 1.00146080e-04, ...,\n",
       "        0.00000000e+00, 2.45400130e-02, 0.00000000e+00],\n",
       "       [5.59040366e-10, 1.12074644e-20, 2.60277080e-13, ...,\n",
       "        0.00000000e+00, 3.95190535e-02, 0.00000000e+00],\n",
       "       ...,\n",
       "       [0.00000000e+00, 0.00000000e+00, 0.00000000e+00, ...,\n",
       "        1.78065479e-02, 0.00000000e+00, 4.52086272e-01],\n",
       "       [1.80771253e-06, 6.02602816e-06, 1.20676586e-05, ...,\n",
       "        0.00000000e+00, 9.99840601e-01, 0.00000000e+00],\n",
       "       [0.00000000e+00, 0.00000000e+00, 0.00000000e+00, ...,\n",
       "        0.00000000e+00, 1.00000000e+00, 0.00000000e+00]])"
      ]
     },
     "execution_count": 30,
     "metadata": {},
     "output_type": "execute_result"
    }
   ],
   "source": [
    "model.Tmatrix"
   ]
  },
  {
   "cell_type": "code",
   "execution_count": 31,
   "metadata": {
    "scrolled": true
   },
   "outputs": [
    {
     "data": {
      "text/html": [
       "<pre style=\"white-space:pre;overflow-x:auto;line-height:normal;font-family:Menlo,'DejaVu Sans Mono',consolas,'Courier New',monospace\"><span style=\"color: #7fbfbf; text-decoration-color: #7fbfbf\">[02/12/24 05:37:22] </span><span style=\"color: #000080; text-decoration-color: #000080\">INFO    </span>                                                                       <a href=\"file:///home/marion_lab/Apps/msm_we/msm_we/_hamsm/_analysis.py\" target=\"_blank\"><span style=\"color: #7f7f7f; text-decoration-color: #7f7f7f\">_analysis.py</span></a><span style=\"color: #7f7f7f; text-decoration-color: #7f7f7f\">:</span><a href=\"file:///home/marion_lab/Apps/msm_we/msm_we/_hamsm/_analysis.py#179\" target=\"_blank\"><span style=\"color: #7f7f7f; text-decoration-color: #7f7f7f\">179</span></a>\n",
       "<span style=\"color: #7fbfbf; text-decoration-color: #7fbfbf\">                    </span>         Flux converged to <span style=\"color: #008080; text-decoration-color: #008080; font-weight: bold\">1.1470e+05</span> after <span style=\"color: #008080; text-decoration-color: #008080; font-weight: bold\">1</span> iterations of inverse iteration. <span style=\"color: #7f7f7f; text-decoration-color: #7f7f7f\">                </span>\n",
       "</pre>\n"
      ],
      "text/plain": [
       "\u001b[2;36m[02/12/24 05:37:22]\u001b[0m\u001b[2;36m \u001b[0m\u001b[34mINFO    \u001b[0m                                                                       \u001b]8;id=349278;file:///home/marion_lab/Apps/msm_we/msm_we/_hamsm/_analysis.py\u001b\\\u001b[2m_analysis.py\u001b[0m\u001b]8;;\u001b\\\u001b[2m:\u001b[0m\u001b]8;id=212105;file:///home/marion_lab/Apps/msm_we/msm_we/_hamsm/_analysis.py#179\u001b\\\u001b[2m179\u001b[0m\u001b]8;;\u001b\\\n",
       "\u001b[2;36m                    \u001b[0m         Flux converged to \u001b[1;36m1.1470e+05\u001b[0m after \u001b[1;36m1\u001b[0m iterations of inverse iteration. \u001b[2m                \u001b[0m\n"
      ]
     },
     "metadata": {},
     "output_type": "display_data"
    },
    {
     "name": "stdout",
     "output_type": "stream",
     "text": [
      "(array([], dtype=int64),)\n"
     ]
    }
   ],
   "source": [
    "model.get_steady_state()"
   ]
  },
  {
   "cell_type": "code",
   "execution_count": 49,
   "metadata": {
    "scrolled": true
   },
   "outputs": [],
   "source": [
    "#model.pSS"
   ]
  },
  {
   "cell_type": "code",
   "execution_count": null,
   "metadata": {},
   "outputs": [],
   "source": [
    "#model.update_cluster_structures()"
   ]
  },
  {
   "cell_type": "code",
   "execution_count": 32,
   "metadata": {},
   "outputs": [
    {
     "name": "stdout",
     "output_type": "stream",
     "text": [
      "Steady-state target rate is 1.15e+05\n"
     ]
    }
   ],
   "source": [
    "model.get_steady_state_target_flux()\n",
    "\n",
    "print(f'Steady-state target rate is {model.JtargetSS:.2e}')"
   ]
  },
  {
   "cell_type": "code",
   "execution_count": 47,
   "metadata": {},
   "outputs": [],
   "source": [
    "#np.savetxt(\"rate.dat\",[(a3.shape[0],model.JtargetSS)], fmt=\"%d %.4e\")"
   ]
  },
  {
   "cell_type": "markdown",
   "metadata": {},
   "source": [
    "##### DO NOT SAVE CHECK5, TOO BIG!!! "
   ]
  },
  {
   "cell_type": "markdown",
   "metadata": {},
   "source": [
    "# Validation"
   ]
  },
  {
   "cell_type": "code",
   "execution_count": 33,
   "metadata": {},
   "outputs": [
    {
     "data": {
      "text/plain": [
       "(1202, 1, 2)"
      ]
     },
     "execution_count": 33,
     "metadata": {},
     "output_type": "execute_result"
    }
   ],
   "source": [
    "model.targetRMSD_minmax.shape"
   ]
  },
  {
   "cell_type": "code",
   "execution_count": 34,
   "metadata": {
    "scrolled": true
   },
   "outputs": [],
   "source": [
    "array= model.targetRMSD_minmax[:,0,:]"
   ]
  },
  {
   "cell_type": "code",
   "execution_count": 35,
   "metadata": {},
   "outputs": [
    {
     "data": {
      "text/plain": [
       "Text(0.5, 1.0, 'MSM Bins Coverage Versus Progress Coordinates')"
      ]
     },
     "execution_count": 35,
     "metadata": {},
     "output_type": "execute_result"
    },
    {
     "data": {
      "image/png": "[encoded data removed]",
      "text/plain": [
       "<Figure size 800x500 with 1 Axes>"
      ]
     },
     "metadata": {},
     "output_type": "display_data"
    }
   ],
   "source": [
    "import matplotlib.pyplot as plt\n",
    "plt.rcParams['figure.figsize'] = [8, 5]\n",
    "# len-2 because the last two are NaN (eq simulation; target/basis states)\n",
    "for idx in range(0,len(array)-2):\n",
    "    plt.errorbar(idx, array[idx,0],yerr=[[0],[array[idx,1]-array[idx,0]]])\n",
    "    #plt.plot(idx, array[idx,1], 'ro')\n",
    "plt.xlabel('cluster number')\n",
    "plt.ylabel('RMSD to target state')\n",
    "plt.title('MSM Bins Coverage Versus Progress Coordinates')"
   ]
  },
  {
   "cell_type": "code",
   "execution_count": 36,
   "metadata": {},
   "outputs": [
    {
     "data": {
      "text/html": [
       "<pre style=\"white-space:pre;overflow-x:auto;line-height:normal;font-family:Menlo,'DejaVu Sans Mono',consolas,'Courier New',monospace\"><span style=\"color: #7fbfbf; text-decoration-color: #7fbfbf\">[02/12/24 05:37:32] </span><span style=\"background-color: #800000; font-weight: bold\">CRITICAL</span> No cross-validation models have been generated! Do this before making <a href=\"file:///home/marion_lab/Apps/msm_we/msm_we/_hamsm/_plotting.py\" target=\"_blank\"><span style=\"color: #7f7f7f; text-decoration-color: #7f7f7f\">_plotting.py</span></a><span style=\"color: #7f7f7f; text-decoration-color: #7f7f7f\">:</span><a href=\"file:///home/marion_lab/Apps/msm_we/msm_we/_hamsm/_plotting.py#280\" target=\"_blank\"><span style=\"color: #7f7f7f; text-decoration-color: #7f7f7f\">280</span></a>\n",
       "<span style=\"color: #7fbfbf; text-decoration-color: #7fbfbf\">                    </span>         plots.                                                                <span style=\"color: #7f7f7f; text-decoration-color: #7f7f7f\">                </span>\n",
       "</pre>\n"
      ],
      "text/plain": [
       "\u001b[2;36m[02/12/24 05:37:32]\u001b[0m\u001b[2;36m \u001b[0m\u001b[1;7;31mCRITICAL\u001b[0m No cross-validation models have been generated! Do this before making \u001b]8;id=688123;file:///home/marion_lab/Apps/msm_we/msm_we/_hamsm/_plotting.py\u001b\\\u001b[2m_plotting.py\u001b[0m\u001b]8;;\u001b\\\u001b[2m:\u001b[0m\u001b]8;id=354732;file:///home/marion_lab/Apps/msm_we/msm_we/_hamsm/_plotting.py#280\u001b\\\u001b[2m280\u001b[0m\u001b]8;;\u001b\\\n",
       "\u001b[2;36m                    \u001b[0m         plots.                                                                \u001b[2m                \u001b[0m\n"
      ]
     },
     "metadata": {},
     "output_type": "display_data"
    },
    {
     "data": {
      "text/html": [
       "<pre style=\"white-space:pre;overflow-x:auto;line-height:normal;font-family:Menlo,'DejaVu Sans Mono',consolas,'Courier New',monospace\"><span style=\"color: #7fbfbf; text-decoration-color: #7fbfbf\">                    </span><span style=\"color: #000080; text-decoration-color: #000080\">INFO    </span> Fluxes have not yet been generated for main_model, generating now.    <a href=\"file:///home/marion_lab/Apps/msm_we/msm_we/_hamsm/_plotting.py\" target=\"_blank\"><span style=\"color: #7f7f7f; text-decoration-color: #7f7f7f\">_plotting.py</span></a><span style=\"color: #7f7f7f; text-decoration-color: #7f7f7f\">:</span><a href=\"file:///home/marion_lab/Apps/msm_we/msm_we/_hamsm/_plotting.py#312\" target=\"_blank\"><span style=\"color: #7f7f7f; text-decoration-color: #7f7f7f\">312</span></a>\n",
       "</pre>\n"
      ],
      "text/plain": [
       "\u001b[2;36m                   \u001b[0m\u001b[2;36m \u001b[0m\u001b[34mINFO    \u001b[0m Fluxes have not yet been generated for main_model, generating now.    \u001b]8;id=431406;file:///home/marion_lab/Apps/msm_we/msm_we/_hamsm/_plotting.py\u001b\\\u001b[2m_plotting.py\u001b[0m\u001b]8;;\u001b\\\u001b[2m:\u001b[0m\u001b]8;id=379922;file:///home/marion_lab/Apps/msm_we/msm_we/_hamsm/_plotting.py#312\u001b\\\u001b[2m312\u001b[0m\u001b]8;;\u001b\\\n"
      ]
     },
     "metadata": {},
     "output_type": "display_data"
    },
    {
     "data": {
      "text/html": [
       "<pre style=\"white-space:pre;overflow-x:auto;line-height:normal;font-family:Menlo,'DejaVu Sans Mono',consolas,'Courier New',monospace\"><span style=\"color: #7fbfbf; text-decoration-color: #7fbfbf\">                    </span><span style=\"color: #800000; text-decoration-color: #800000\">WARNING </span> Assuming fluxes should be sorted by pcoord dimension <span style=\"color: #008080; text-decoration-color: #008080; font-weight: bold\">0</span> -- this is     <a href=\"file:///home/marion_lab/Apps/msm_we/msm_we/_hamsm/_analysis.py\" target=\"_blank\"><span style=\"color: #7f7f7f; text-decoration-color: #7f7f7f\">_analysis.py</span></a><span style=\"color: #7f7f7f; text-decoration-color: #7f7f7f\">:</span><a href=\"file:///home/marion_lab/Apps/msm_we/msm_we/_hamsm/_analysis.py#403\" target=\"_blank\"><span style=\"color: #7f7f7f; text-decoration-color: #7f7f7f\">403</span></a>\n",
       "<span style=\"color: #7fbfbf; text-decoration-color: #7fbfbf\">                    </span>         currently built in to the code.                                       <span style=\"color: #7f7f7f; text-decoration-color: #7f7f7f\">                </span>\n",
       "</pre>\n"
      ],
      "text/plain": [
       "\u001b[2;36m                   \u001b[0m\u001b[2;36m \u001b[0m\u001b[31mWARNING \u001b[0m Assuming fluxes should be sorted by pcoord dimension \u001b[1;36m0\u001b[0m -- this is     \u001b]8;id=378150;file:///home/marion_lab/Apps/msm_we/msm_we/_hamsm/_analysis.py\u001b\\\u001b[2m_analysis.py\u001b[0m\u001b]8;;\u001b\\\u001b[2m:\u001b[0m\u001b]8;id=65891;file:///home/marion_lab/Apps/msm_we/msm_we/_hamsm/_analysis.py#403\u001b\\\u001b[2m403\u001b[0m\u001b]8;;\u001b\\\n",
       "\u001b[2;36m                    \u001b[0m         currently built in to the code.                                       \u001b[2m                \u001b[0m\n"
      ]
     },
     "metadata": {},
     "output_type": "display_data"
    },
    {
     "data": {
      "text/html": [
       "<pre style=\"white-space:pre;overflow-x:auto;line-height:normal;font-family:Menlo,'DejaVu Sans Mono',consolas,'Courier New',monospace\"><span style=\"color: #7fbfbf; text-decoration-color: #7fbfbf\">[02/12/24 05:39:14] </span><span style=\"color: #800000; text-decoration-color: #800000\">WARNING </span> Flux profile appears to be overcorrected! In other words, the flux    <a href=\"file:///home/marion_lab/Apps/msm_we/msm_we/_hamsm/_analysis.py\" target=\"_blank\"><span style=\"color: #7f7f7f; text-decoration-color: #7f7f7f\">_analysis.py</span></a><span style=\"color: #7f7f7f; text-decoration-color: #7f7f7f\">:</span><a href=\"file:///home/marion_lab/Apps/msm_we/msm_we/_hamsm/_analysis.py#462\" target=\"_blank\"><span style=\"color: #7f7f7f; text-decoration-color: #7f7f7f\">462</span></a>\n",
       "<span style=\"color: #7fbfbf; text-decoration-color: #7fbfbf\">                    </span>         profile appears higher near the target than the basis. This suggests  <span style=\"color: #7f7f7f; text-decoration-color: #7f7f7f\">                </span>\n",
       "<span style=\"color: #7fbfbf; text-decoration-color: #7fbfbf\">                    </span>         restarting may have driven the system past its true steady-state.     <span style=\"color: #7f7f7f; text-decoration-color: #7f7f7f\">                </span>\n",
       "<span style=\"color: #7fbfbf; text-decoration-color: #7fbfbf\">                    </span>         This WE run should be continued without restarting, and allowed to    <span style=\"color: #7f7f7f; text-decoration-color: #7f7f7f\">                </span>\n",
       "<span style=\"color: #7fbfbf; text-decoration-color: #7fbfbf\">                    </span>         relax.                                                                <span style=\"color: #7f7f7f; text-decoration-color: #7f7f7f\">                </span>\n",
       "</pre>\n"
      ],
      "text/plain": [
       "\u001b[2;36m[02/12/24 05:39:14]\u001b[0m\u001b[2;36m \u001b[0m\u001b[31mWARNING \u001b[0m Flux profile appears to be overcorrected! In other words, the flux    \u001b]8;id=822261;file:///home/marion_lab/Apps/msm_we/msm_we/_hamsm/_analysis.py\u001b\\\u001b[2m_analysis.py\u001b[0m\u001b]8;;\u001b\\\u001b[2m:\u001b[0m\u001b]8;id=591325;file:///home/marion_lab/Apps/msm_we/msm_we/_hamsm/_analysis.py#462\u001b\\\u001b[2m462\u001b[0m\u001b]8;;\u001b\\\n",
       "\u001b[2;36m                    \u001b[0m         profile appears higher near the target than the basis. This suggests  \u001b[2m                \u001b[0m\n",
       "\u001b[2;36m                    \u001b[0m         restarting may have driven the system past its true steady-state.     \u001b[2m                \u001b[0m\n",
       "\u001b[2;36m                    \u001b[0m         This WE run should be continued without restarting, and allowed to    \u001b[2m                \u001b[0m\n",
       "\u001b[2;36m                    \u001b[0m         relax.                                                                \u001b[2m                \u001b[0m\n"
      ]
     },
     "metadata": {},
     "output_type": "display_data"
    },
    {
     "data": {
      "text/html": [
       "<pre style=\"white-space:pre;overflow-x:auto;line-height:normal;font-family:Menlo,'DejaVu Sans Mono',consolas,'Courier New',monospace\"><span style=\"color: #7fbfbf; text-decoration-color: #7fbfbf\">                    </span><span style=\"color: #800000; text-decoration-color: #800000\">WARNING </span> Flux profile appears to be overcorrected! In other words, the flux    <a href=\"file:///home/marion_lab/Apps/msm_we/msm_we/_hamsm/_plotting.py\" target=\"_blank\"><span style=\"color: #7f7f7f; text-decoration-color: #7f7f7f\">_plotting.py</span></a><span style=\"color: #7f7f7f; text-decoration-color: #7f7f7f\">:</span><a href=\"file:///home/marion_lab/Apps/msm_we/msm_we/_hamsm/_plotting.py#422\" target=\"_blank\"><span style=\"color: #7f7f7f; text-decoration-color: #7f7f7f\">422</span></a>\n",
       "<span style=\"color: #7fbfbf; text-decoration-color: #7fbfbf\">                    </span>         profile appears higher near the target than the basis. This suggests  <span style=\"color: #7f7f7f; text-decoration-color: #7f7f7f\">                </span>\n",
       "<span style=\"color: #7fbfbf; text-decoration-color: #7fbfbf\">                    </span>         restarting may have driven the system past its true steady-state.     <span style=\"color: #7f7f7f; text-decoration-color: #7f7f7f\">                </span>\n",
       "<span style=\"color: #7fbfbf; text-decoration-color: #7fbfbf\">                    </span>         This WE run should be continued without restarting, and allowed to    <span style=\"color: #7f7f7f; text-decoration-color: #7f7f7f\">                </span>\n",
       "<span style=\"color: #7fbfbf; text-decoration-color: #7fbfbf\">                    </span>         relax.                                                                <span style=\"color: #7f7f7f; text-decoration-color: #7f7f7f\">                </span>\n",
       "</pre>\n"
      ],
      "text/plain": [
       "\u001b[2;36m                   \u001b[0m\u001b[2;36m \u001b[0m\u001b[31mWARNING \u001b[0m Flux profile appears to be overcorrected! In other words, the flux    \u001b]8;id=60959;file:///home/marion_lab/Apps/msm_we/msm_we/_hamsm/_plotting.py\u001b\\\u001b[2m_plotting.py\u001b[0m\u001b]8;;\u001b\\\u001b[2m:\u001b[0m\u001b]8;id=232126;file:///home/marion_lab/Apps/msm_we/msm_we/_hamsm/_plotting.py#422\u001b\\\u001b[2m422\u001b[0m\u001b]8;;\u001b\\\n",
       "\u001b[2;36m                    \u001b[0m         profile appears higher near the target than the basis. This suggests  \u001b[2m                \u001b[0m\n",
       "\u001b[2;36m                    \u001b[0m         restarting may have driven the system past its true steady-state.     \u001b[2m                \u001b[0m\n",
       "\u001b[2;36m                    \u001b[0m         This WE run should be continued without restarting, and allowed to    \u001b[2m                \u001b[0m\n",
       "\u001b[2;36m                    \u001b[0m         relax.                                                                \u001b[2m                \u001b[0m\n"
      ]
     },
     "metadata": {},
     "output_type": "display_data"
    },
    {
     "data": {
      "text/plain": [
       "<Axes: xlabel='Pcoord 0', ylabel='Flux (weight/second)'>"
      ]
     },
     "execution_count": 36,
     "metadata": {},
     "output_type": "execute_result"
    },
    {
     "data": {
      "image/png": "[encoded data removed]",
      "text/plain": [
       "<Figure size 1000x400 with 1 Axes>"
      ]
     },
     "metadata": {},
     "output_type": "display_data"
    }
   ],
   "source": [
    "model.plot_flux(suppress_validation=True)"
   ]
  },
  {
   "cell_type": "markdown",
   "metadata": {},
   "source": [
    "##### Although that's useful, plotting against progress coordinate may be misleading, since the transition region may not be evenly distributed in progress coordinate space.\n",
    "##### To see if that's the case, let's look at the committor vs progress coordinate for our clusters.\n",
    "##### The committor is 1 at the target state, and 0 at the source. So by looking at this plot, and seeing where the committor starts to break away from 0, we can get an idea of where the transition region is.\n",
    "##### If you had a \"perfect\" progress coordinate, this would be a diagonal line."
   ]
  },
  {
   "cell_type": "code",
   "execution_count": 37,
   "metadata": {},
   "outputs": [
    {
     "data": {
      "text/html": [
       "<pre style=\"white-space:pre;overflow-x:auto;line-height:normal;font-family:Menlo,'DejaVu Sans Mono',consolas,'Courier New',monospace\"><span style=\"color: #7fbfbf; text-decoration-color: #7fbfbf\">[02/12/24 05:39:24] </span><span style=\"color: #000080; text-decoration-color: #000080\">INFO    </span> Note that, if steady-state weighted ensemble data is being analyzed,  <a href=\"file:///home/marion_lab/Apps/msm_we/msm_we/_hamsm/_analysis.py\" target=\"_blank\"><span style=\"color: #7f7f7f; text-decoration-color: #7f7f7f\">_analysis.py</span></a><span style=\"color: #7f7f7f; text-decoration-color: #7f7f7f\">:</span><a href=\"file:///home/marion_lab/Apps/msm_we/msm_we/_hamsm/_analysis.py#642\" target=\"_blank\"><span style=\"color: #7f7f7f; text-decoration-color: #7f7f7f\">642</span></a>\n",
       "<span style=\"color: #7fbfbf; text-decoration-color: #7fbfbf\">                    </span>         this is a <span style=\"color: #008000; text-decoration-color: #008000\">'pseudocommittor'</span> and not a true committor as a result of   <span style=\"color: #7f7f7f; text-decoration-color: #7f7f7f\">                </span>\n",
       "<span style=\"color: #7fbfbf; text-decoration-color: #7fbfbf\">                    </span>         being constructed from a one-way ensemble.                            <span style=\"color: #7f7f7f; text-decoration-color: #7f7f7f\">                </span>\n",
       "</pre>\n"
      ],
      "text/plain": [
       "\u001b[2;36m[02/12/24 05:39:24]\u001b[0m\u001b[2;36m \u001b[0m\u001b[34mINFO    \u001b[0m Note that, if steady-state weighted ensemble data is being analyzed,  \u001b]8;id=487795;file:///home/marion_lab/Apps/msm_we/msm_we/_hamsm/_analysis.py\u001b\\\u001b[2m_analysis.py\u001b[0m\u001b]8;;\u001b\\\u001b[2m:\u001b[0m\u001b]8;id=269870;file:///home/marion_lab/Apps/msm_we/msm_we/_hamsm/_analysis.py#642\u001b\\\u001b[2m642\u001b[0m\u001b]8;;\u001b\\\n",
       "\u001b[2;36m                    \u001b[0m         this is a \u001b[32m'pseudocommittor'\u001b[0m and not a true committor as a result of   \u001b[2m                \u001b[0m\n",
       "\u001b[2;36m                    \u001b[0m         being constructed from a one-way ensemble.                            \u001b[2m                \u001b[0m\n"
      ]
     },
     "metadata": {},
     "output_type": "display_data"
    },
    {
     "data": {
      "application/vnd.jupyter.widget-view+json": {
       "model_id": "d3d5376ff13d4a0c84d46680503dd30a",
       "version_major": 2,
       "version_minor": 0
      },
      "text/plain": [
       "  0%|          | 0/5.0 [00:00<?, ?it/s]"
      ]
     },
     "metadata": {},
     "output_type": "display_data"
    }
   ],
   "source": [
    "model.get_committor()"
   ]
  },
  {
   "cell_type": "code",
   "execution_count": 38,
   "metadata": {},
   "outputs": [
    {
     "data": {
      "text/html": [
       "<pre style=\"white-space:pre;overflow-x:auto;line-height:normal;font-family:Menlo,'DejaVu Sans Mono',consolas,'Courier New',monospace\"><span style=\"color: #7fbfbf; text-decoration-color: #7fbfbf\">[02/12/24 05:39:28] </span><span style=\"color: #000080; text-decoration-color: #000080\">INFO    </span> Note that, if steady-state weighted ensemble data is being analyzed,  <a href=\"file:///home/marion_lab/Apps/msm_we/msm_we/_hamsm/_analysis.py\" target=\"_blank\"><span style=\"color: #7f7f7f; text-decoration-color: #7f7f7f\">_analysis.py</span></a><span style=\"color: #7f7f7f; text-decoration-color: #7f7f7f\">:</span><a href=\"file:///home/marion_lab/Apps/msm_we/msm_we/_hamsm/_analysis.py#642\" target=\"_blank\"><span style=\"color: #7f7f7f; text-decoration-color: #7f7f7f\">642</span></a>\n",
       "<span style=\"color: #7fbfbf; text-decoration-color: #7fbfbf\">                    </span>         this is a <span style=\"color: #008000; text-decoration-color: #008000\">'pseudocommittor'</span> and not a true committor as a result of   <span style=\"color: #7f7f7f; text-decoration-color: #7f7f7f\">                </span>\n",
       "<span style=\"color: #7fbfbf; text-decoration-color: #7fbfbf\">                    </span>         being constructed from a one-way ensemble.                            <span style=\"color: #7f7f7f; text-decoration-color: #7f7f7f\">                </span>\n",
       "</pre>\n"
      ],
      "text/plain": [
       "\u001b[2;36m[02/12/24 05:39:28]\u001b[0m\u001b[2;36m \u001b[0m\u001b[34mINFO    \u001b[0m Note that, if steady-state weighted ensemble data is being analyzed,  \u001b]8;id=19222;file:///home/marion_lab/Apps/msm_we/msm_we/_hamsm/_analysis.py\u001b\\\u001b[2m_analysis.py\u001b[0m\u001b]8;;\u001b\\\u001b[2m:\u001b[0m\u001b]8;id=120965;file:///home/marion_lab/Apps/msm_we/msm_we/_hamsm/_analysis.py#642\u001b\\\u001b[2m642\u001b[0m\u001b]8;;\u001b\\\n",
       "\u001b[2;36m                    \u001b[0m         this is a \u001b[32m'pseudocommittor'\u001b[0m and not a true committor as a result of   \u001b[2m                \u001b[0m\n",
       "\u001b[2;36m                    \u001b[0m         being constructed from a one-way ensemble.                            \u001b[2m                \u001b[0m\n"
      ]
     },
     "metadata": {},
     "output_type": "display_data"
    },
    {
     "data": {
      "image/png": "[encoded data removed]",
      "text/plain": [
       "<Figure size 800x600 with 1 Axes>"
      ]
     },
     "metadata": {},
     "output_type": "display_data"
    }
   ],
   "source": [
    "model.plot_committor()\n",
    "#plt.gca().set_yscale('linear')\n",
    "#plt.gca().axhline(y = 0.5, color = 'r', linestyle = '-') "
   ]
  },
  {
   "cell_type": "code",
   "execution_count": 39,
   "metadata": {},
   "outputs": [
    {
     "data": {
      "text/plain": [
       "((1202, 1), (1202,))"
      ]
     },
     "execution_count": 39,
     "metadata": {},
     "output_type": "execute_result"
    }
   ],
   "source": [
    "model.targetRMSD_centers.shape, model.q.shape"
   ]
  },
  {
   "cell_type": "code",
   "execution_count": 61,
   "metadata": {},
   "outputs": [],
   "source": [
    "plt.style.use('custom.mplstyle')"
   ]
  },
  {
   "cell_type": "code",
   "execution_count": 64,
   "metadata": {},
   "outputs": [
    {
     "data": {
      "image/png": "[encoded data removed]",
      "text/plain": [
       "<Figure size 700x500 with 1 Axes>"
      ]
     },
     "metadata": {},
     "output_type": "display_data"
    }
   ],
   "source": [
    "plt.figure()\n",
    "plt.scatter(model.targetRMSD_centers[:,0], model.q, s=15, c=\"black\")\n",
    "plt.ylabel(\"Pseudo-committor value\")\n",
    "plt.xlabel(\"Ligand-unbinding RMSD ($\\AA$)\")\n",
    "plt.savefig(\"HIF2a_s1_e1000committor.png\", bbox_inches = \"tight\")"
   ]
  },
  {
   "cell_type": "code",
   "execution_count": 20,
   "metadata": {},
   "outputs": [
    {
     "data": {
      "text/html": [
       "<pre style=\"white-space:pre;overflow-x:auto;line-height:normal;font-family:Menlo,'DejaVu Sans Mono',consolas,'Courier New',monospace\"><span style=\"color: #7fbfbf; text-decoration-color: #7fbfbf\">[02/12/24 05:33:38] </span><span style=\"background-color: #800000; font-weight: bold\">CRITICAL</span> No cross-validation models have been generated! Do this before making <a href=\"file:///home/marion_lab/Apps/msm_we/msm_we/_hamsm/_plotting.py\" target=\"_blank\"><span style=\"color: #7f7f7f; text-decoration-color: #7f7f7f\">_plotting.py</span></a><span style=\"color: #7f7f7f; text-decoration-color: #7f7f7f\">:</span><a href=\"file:///home/marion_lab/Apps/msm_we/msm_we/_hamsm/_plotting.py#118\" target=\"_blank\"><span style=\"color: #7f7f7f; text-decoration-color: #7f7f7f\">118</span></a>\n",
       "<span style=\"color: #7fbfbf; text-decoration-color: #7fbfbf\">                    </span>         plots.                                                                <span style=\"color: #7f7f7f; text-decoration-color: #7f7f7f\">                </span>\n",
       "</pre>\n"
      ],
      "text/plain": [
       "\u001b[2;36m[02/12/24 05:33:38]\u001b[0m\u001b[2;36m \u001b[0m\u001b[1;7;31mCRITICAL\u001b[0m No cross-validation models have been generated! Do this before making \u001b]8;id=497937;file:///home/marion_lab/Apps/msm_we/msm_we/_hamsm/_plotting.py\u001b\\\u001b[2m_plotting.py\u001b[0m\u001b]8;;\u001b\\\u001b[2m:\u001b[0m\u001b]8;id=459541;file:///home/marion_lab/Apps/msm_we/msm_we/_hamsm/_plotting.py#118\u001b\\\u001b[2m118\u001b[0m\u001b]8;;\u001b\\\n",
       "\u001b[2;36m                    \u001b[0m         plots.                                                                \u001b[2m                \u001b[0m\n"
      ]
     },
     "metadata": {},
     "output_type": "display_data"
    },
    {
     "data": {
      "text/html": [
       "<pre style=\"white-space:pre;overflow-x:auto;line-height:normal;font-family:Menlo,'DejaVu Sans Mono',consolas,'Courier New',monospace\"><span style=\"color: #7fbfbf; text-decoration-color: #7fbfbf\">                    </span><span style=\"color: #000080; text-decoration-color: #000080\">INFO    </span> Committor-fluxes have not yet been generated for main_model,          <a href=\"file:///home/marion_lab/Apps/msm_we/msm_we/_hamsm/_plotting.py\" target=\"_blank\"><span style=\"color: #7f7f7f; text-decoration-color: #7f7f7f\">_plotting.py</span></a><span style=\"color: #7f7f7f; text-decoration-color: #7f7f7f\">:</span><a href=\"file:///home/marion_lab/Apps/msm_we/msm_we/_hamsm/_plotting.py#153\" target=\"_blank\"><span style=\"color: #7f7f7f; text-decoration-color: #7f7f7f\">153</span></a>\n",
       "<span style=\"color: #7fbfbf; text-decoration-color: #7fbfbf\">                    </span>         generating now.                                                       <span style=\"color: #7f7f7f; text-decoration-color: #7f7f7f\">                </span>\n",
       "</pre>\n"
      ],
      "text/plain": [
       "\u001b[2;36m                   \u001b[0m\u001b[2;36m \u001b[0m\u001b[34mINFO    \u001b[0m Committor-fluxes have not yet been generated for main_model,          \u001b]8;id=531606;file:///home/marion_lab/Apps/msm_we/msm_we/_hamsm/_plotting.py\u001b\\\u001b[2m_plotting.py\u001b[0m\u001b]8;;\u001b\\\u001b[2m:\u001b[0m\u001b]8;id=415352;file:///home/marion_lab/Apps/msm_we/msm_we/_hamsm/_plotting.py#153\u001b\\\u001b[2m153\u001b[0m\u001b]8;;\u001b\\\n",
       "\u001b[2;36m                    \u001b[0m         generating now.                                                       \u001b[2m                \u001b[0m\n"
      ]
     },
     "metadata": {},
     "output_type": "display_data"
    },
    {
     "data": {
      "application/vnd.jupyter.widget-view+json": {
       "model_id": "c944e378d3f04f96a00bd7e399da3f97",
       "version_major": 2,
       "version_minor": 0
      },
      "text/plain": [
       "Obtaining pseudocommittor-fluxes:   0%|          | 0/901 [00:00<?, ?it/s]"
      ]
     },
     "metadata": {},
     "output_type": "display_data"
    },
    {
     "data": {
      "text/html": [
       "<pre style=\"white-space:pre;overflow-x:auto;line-height:normal;font-family:Menlo,'DejaVu Sans Mono',consolas,'Courier New',monospace\"><span style=\"color: #7fbfbf; text-decoration-color: #7fbfbf\">[02/12/24 05:34:27] </span><span style=\"color: #000080; text-decoration-color: #000080\">INFO    </span> Note that, if steady-state weighted ensemble data is being analyzed,  <a href=\"file:///home/marion_lab/Apps/msm_we/msm_we/_hamsm/_analysis.py\" target=\"_blank\"><span style=\"color: #7f7f7f; text-decoration-color: #7f7f7f\">_analysis.py</span></a><span style=\"color: #7f7f7f; text-decoration-color: #7f7f7f\">:</span><a href=\"file:///home/marion_lab/Apps/msm_we/msm_we/_hamsm/_analysis.py#642\" target=\"_blank\"><span style=\"color: #7f7f7f; text-decoration-color: #7f7f7f\">642</span></a>\n",
       "<span style=\"color: #7fbfbf; text-decoration-color: #7fbfbf\">                    </span>         this is a <span style=\"color: #008000; text-decoration-color: #008000\">'pseudocommittor'</span> and not a true committor as a result of   <span style=\"color: #7f7f7f; text-decoration-color: #7f7f7f\">                </span>\n",
       "<span style=\"color: #7fbfbf; text-decoration-color: #7fbfbf\">                    </span>         being constructed from a one-way ensemble.                            <span style=\"color: #7f7f7f; text-decoration-color: #7f7f7f\">                </span>\n",
       "</pre>\n"
      ],
      "text/plain": [
       "\u001b[2;36m[02/12/24 05:34:27]\u001b[0m\u001b[2;36m \u001b[0m\u001b[34mINFO    \u001b[0m Note that, if steady-state weighted ensemble data is being analyzed,  \u001b]8;id=280387;file:///home/marion_lab/Apps/msm_we/msm_we/_hamsm/_analysis.py\u001b\\\u001b[2m_analysis.py\u001b[0m\u001b]8;;\u001b\\\u001b[2m:\u001b[0m\u001b]8;id=133068;file:///home/marion_lab/Apps/msm_we/msm_we/_hamsm/_analysis.py#642\u001b\\\u001b[2m642\u001b[0m\u001b]8;;\u001b\\\n",
       "\u001b[2;36m                    \u001b[0m         this is a \u001b[32m'pseudocommittor'\u001b[0m and not a true committor as a result of   \u001b[2m                \u001b[0m\n",
       "\u001b[2;36m                    \u001b[0m         being constructed from a one-way ensemble.                            \u001b[2m                \u001b[0m\n"
      ]
     },
     "metadata": {},
     "output_type": "display_data"
    },
    {
     "data": {
      "text/html": [
       "<pre style=\"white-space:pre;overflow-x:auto;line-height:normal;font-family:Menlo,'DejaVu Sans Mono',consolas,'Courier New',monospace\"><span style=\"color: #7fbfbf; text-decoration-color: #7fbfbf\">                    </span><span style=\"color: #800000; text-decoration-color: #800000\">WARNING </span> Flux profile appears to be overcorrected! In other words, the flux    <a href=\"file:///home/marion_lab/Apps/msm_we/msm_we/_hamsm/_plotting.py\" target=\"_blank\"><span style=\"color: #7f7f7f; text-decoration-color: #7f7f7f\">_plotting.py</span></a><span style=\"color: #7f7f7f; text-decoration-color: #7f7f7f\">:</span><a href=\"file:///home/marion_lab/Apps/msm_we/msm_we/_hamsm/_plotting.py#422\" target=\"_blank\"><span style=\"color: #7f7f7f; text-decoration-color: #7f7f7f\">422</span></a>\n",
       "<span style=\"color: #7fbfbf; text-decoration-color: #7fbfbf\">                    </span>         profile appears higher near the target than the basis. This suggests  <span style=\"color: #7f7f7f; text-decoration-color: #7f7f7f\">                </span>\n",
       "<span style=\"color: #7fbfbf; text-decoration-color: #7fbfbf\">                    </span>         restarting may have driven the system past its true steady-state.     <span style=\"color: #7f7f7f; text-decoration-color: #7f7f7f\">                </span>\n",
       "<span style=\"color: #7fbfbf; text-decoration-color: #7fbfbf\">                    </span>         This WE run should be continued without restarting, and allowed to    <span style=\"color: #7f7f7f; text-decoration-color: #7f7f7f\">                </span>\n",
       "<span style=\"color: #7fbfbf; text-decoration-color: #7fbfbf\">                    </span>         relax.                                                                <span style=\"color: #7f7f7f; text-decoration-color: #7f7f7f\">                </span>\n",
       "</pre>\n"
      ],
      "text/plain": [
       "\u001b[2;36m                   \u001b[0m\u001b[2;36m \u001b[0m\u001b[31mWARNING \u001b[0m Flux profile appears to be overcorrected! In other words, the flux    \u001b]8;id=524250;file:///home/marion_lab/Apps/msm_we/msm_we/_hamsm/_plotting.py\u001b\\\u001b[2m_plotting.py\u001b[0m\u001b]8;;\u001b\\\u001b[2m:\u001b[0m\u001b]8;id=252911;file:///home/marion_lab/Apps/msm_we/msm_we/_hamsm/_plotting.py#422\u001b\\\u001b[2m422\u001b[0m\u001b]8;;\u001b\\\n",
       "\u001b[2;36m                    \u001b[0m         profile appears higher near the target than the basis. This suggests  \u001b[2m                \u001b[0m\n",
       "\u001b[2;36m                    \u001b[0m         restarting may have driven the system past its true steady-state.     \u001b[2m                \u001b[0m\n",
       "\u001b[2;36m                    \u001b[0m         This WE run should be continued without restarting, and allowed to    \u001b[2m                \u001b[0m\n",
       "\u001b[2;36m                    \u001b[0m         relax.                                                                \u001b[2m                \u001b[0m\n"
      ]
     },
     "metadata": {},
     "output_type": "display_data"
    },
    {
     "data": {
      "text/plain": [
       "<Axes: xlabel='Pseudocommittor', ylabel='Flux (weight/second)'>"
      ]
     },
     "execution_count": 20,
     "metadata": {},
     "output_type": "execute_result"
    },
    {
     "data": {
      "image/png": "[encoded data removed]",
      "text/plain": [
       "<Figure size 1000x400 with 1 Axes>"
      ]
     },
     "metadata": {},
     "output_type": "display_data"
    }
   ],
   "source": [
    "model.plot_flux_committor(suppress_validation=True)\n",
    "#plt.gca().set_xscale('linear')\n",
    "#plt.savefig('flux_pseudo_uneven_bin-restart34-t2-c18.png')"
   ]
  },
  {
   "cell_type": "code",
   "execution_count": 17,
   "metadata": {},
   "outputs": [],
   "source": [
    "# For loading the clustered model data\n",
    "#from pickle import load\n",
    "#with open('NEW-MSMWE_clustering_scikit_c200_uneven_bin_heavy_step4-restart345-t2.pickle', 'rb') as fo:\n",
    "#    model = load(fo)"
   ]
  },
  {
   "cell_type": "code",
   "execution_count": 18,
   "metadata": {},
   "outputs": [],
   "source": [
    "## For saving the clustered model data\n",
    "#from pickle import dump\n",
    "#with open('NEW-MSMWE_clustering_scikit_c400_uneven_bin_heavy_step4-restart345-t3.pickle', 'wb') as fo:\n",
    "#    dump(model, fo)"
   ]
  },
  {
   "cell_type": "markdown",
   "metadata": {},
   "source": [
    "# Extract transition state (pseudo-committor of a certain range)"
   ]
  },
  {
   "cell_type": "code",
   "execution_count": 70,
   "metadata": {},
   "outputs": [],
   "source": [
    "# Parsing through the list so we get the real seg number (and the file number as well)\n",
    "from copy import deepcopy\n",
    "\n",
    "def output_pseudocommittor(lower, upper, both):\n",
    "    # Finding all the iter/seg_index\n",
    "    output = []\n",
    "    for j in range(0, len(model.dtrajs)):\n",
    "        val = np.argwhere(np.isin(model.dtrajs[j], both))\n",
    "        #print(j+1, np.squeeze(val,axis=1))\n",
    "        output.append([j+1, np.squeeze(val, axis=1)])\n",
    "    output2 = [[val[0], seg] for val in output for seg in val[1]]\n",
    "    #output2\n",
    "\n",
    "    file_list = []\n",
    "    for file in model.fileList:\n",
    "        with h5py.File(file,'r') as f:\n",
    "            file_list.append(f['summary']['n_particles'])\n",
    "\n",
    "    output3 = deepcopy(output2)\n",
    "\n",
    "    for j in output3:\n",
    "        seg_index = j[1]\n",
    "        tol = 0\n",
    "        for i in range(0,len(file_list)):\n",
    "            tol += file_list[i][j[0]-1]\n",
    "            #print(i, tol, seg_index)\n",
    "            if seg_index < tol:\n",
    "                #print('break')\n",
    "                break\n",
    "            #print(tol)\n",
    "        if i != 0: \n",
    "            #print('here')\n",
    "            tol -= file_list[i][j[0]-1]\n",
    "            j[1] -= tol\n",
    "        else:\n",
    "            j[1] = seg_index\n",
    "        j.insert(0,i+1)\n",
    "\n",
    "    output3 = np.asarray(output3)\n",
    "    #with open(f'transition_state_from{lower}_to{upper}.npy','wb') as fo:\n",
    "    #    np.save(fo,output3)\n",
    "    \n",
    "    list=[]\n",
    "    for i in range(output3.shape[0]):\n",
    "        #print(output3[i,0])\n",
    "        if(output3[i,0]==3):\n",
    "            list.append(output3[i,:])\n",
    "            \n",
    "    output4 = np.asarray(list)\n",
    "    \n",
    "    list2=[]\n",
    "    for i in range(output3.shape[0]):\n",
    "        #print(output3[i,0])\n",
    "        if(output3[i,0]=!3):\n",
    "            list2.append(output3[i,:])\n",
    "            \n",
    "    output5 = np.asarray(list2)\n",
    "\n",
    "    np.savetxt(f'transition_state_from{lower}_to{upper}.dat',output4, fmt=\"%d %d %d\")\n",
    "    np.savetxt(f'transition_state_from{lower}_to{upper}_C2.dat',output4, fmt=\"%d %d %d\")\n",
    "\n",
    "    print(output3.shape, output4.shape) #output3[:,0])"
   ]
  },
  {
   "cell_type": "code",
   "execution_count": 71,
   "metadata": {
    "scrolled": true
   },
   "outputs": [
    {
     "data": {
      "application/vnd.jupyter.widget-view+json": {
       "model_id": "e10651dde4a54379ae4c69cd1f9e4dd1",
       "version_major": 2,
       "version_minor": 0
      },
      "text/plain": [
       "  0%|          | 0/2 [00:00<?, ?it/s]"
      ]
     },
     "metadata": {},
     "output_type": "display_data"
    },
    {
     "name": "stdout",
     "output_type": "stream",
     "text": [
      "(173955, 3) (63167, 3)\n",
      "(43865, 3) (16335, 3)\n"
     ]
    }
   ],
   "source": [
    "from tqdm.auto import tqdm\n",
    "#ranges = [(0,0.2), (0.2,0.4),(0.4,0.6),(0.6,0.8),(0.8,1), (0,0.1),(0.1,0.2),(0.8,0.9),(0.9,1), \n",
    "#(0,0.3), (0.3,0.6),(0.6,1),(0.45,0.55)]\n",
    "#ranges = [(0.4,0.6),(0.45,0.55)]\n",
    "ranges = [(0.3,0.7),(0.4,0.6)]\n",
    "\n",
    "# specify upper, lower range.\n",
    "for val in tqdm(ranges):\n",
    "    under = np.argwhere(model.q < val[1])\n",
    "    over = np.argwhere(model.q > val[0])\n",
    "    both = [i for [i] in under if i in over]\n",
    "    #print(model.q[both])\n",
    "    output_pseudocommittor(val[0],val[1],both)"
   ]
  },
  {
   "cell_type": "markdown",
   "metadata": {},
   "source": [
    "# Post-Featurization Steps"
   ]
  },
  {
   "cell_type": "code",
   "execution_count": null,
   "metadata": {},
   "outputs": [],
   "source": [
    "model.do_block_validation(cross_validation_groups=2, cross_validation_blocks=8)#, skip=[1])"
   ]
  },
  {
   "cell_type": "code",
   "execution_count": null,
   "metadata": {},
   "outputs": [],
   "source": [
    "from copy import deepcopy\n",
    "do_block_validation(self=model, cross_validation_groups=2, cross_validation_blocks=8, use_ray=True)"
   ]
  },
  {
   "cell_type": "code",
   "execution_count": null,
   "metadata": {},
   "outputs": [],
   "source": [
    "# For loading the clustered model data\n",
    "from pickle import load\n",
    "with open('clustering_scikit_c18_uneven_bin_heavy_step5-restart34-zero7.pickle', 'rb') as fo:\n",
    "    model = load(fo)"
   ]
  },
  {
   "cell_type": "code",
   "execution_count": null,
   "metadata": {},
   "outputs": [],
   "source": [
    "# For saving the clustered model data\n",
    "from pickle import dump\n",
    "with open('NEW-MSMWE_clustering_scikit_c200_uneven_bin_heavy_step5-restart345-t3.pickle', 'wb') as fo:\n",
    "    dump(model, fo)"
   ]
  },
  {
   "cell_type": "code",
   "execution_count": null,
   "metadata": {},
   "outputs": [],
   "source": []
  },
  {
   "cell_type": "markdown",
   "metadata": {},
   "source": [
    "# Block Validation Rates"
   ]
  },
  {
   "cell_type": "code",
   "execution_count": null,
   "metadata": {},
   "outputs": [],
   "source": [
    "for i in range(len(model.validation_models)):\n",
    "    model.validation_models[i].get_steady_state_target_flux()\n",
    "\n",
    "    print(f'Steady-state target rate is {model.validation_models[i].JtargetSS:.2e} for model {i}')"
   ]
  },
  {
   "cell_type": "code",
   "execution_count": null,
   "metadata": {},
   "outputs": [],
   "source": [
    "import numpy\n",
    "list_of_rates = [model.JtargetSS, model.validation_models[0].JtargetSS, model.validation_models[1].JtargetSS]\n",
    "print(numpy.std(list_of_rates))\n",
    "print(numpy.average(list_of_rates))"
   ]
  },
  {
   "cell_type": "code",
   "execution_count": null,
   "metadata": {},
   "outputs": [],
   "source": [
    "for i in range(len(model.validation_models)):\n",
    "    model.validation_models[i].get_steady_state_target_flux()\n",
    "\n",
    "    print(f'Steady-state target rate is {model.validation_models[i].JtargetSS:.2e} for model {i}')"
   ]
  },
  {
   "cell_type": "code",
   "execution_count": null,
   "metadata": {},
   "outputs": [],
   "source": [
    "import numpy\n",
    "list_of_rates = [model.JtargetSS, model.validation_models[0].JtargetSS, model.validation_models[1].JtargetSS]\n",
    "print(numpy.std(list_of_rates))\n",
    "print(numpy.average(list_of_rates))"
   ]
  },
  {
   "cell_type": "code",
   "execution_count": null,
   "metadata": {},
   "outputs": [],
   "source": [
    "ray.shutdown()"
   ]
  },
  {
   "cell_type": "markdown",
   "metadata": {},
   "source": [
    "# Block Validation Output"
   ]
  },
  {
   "cell_type": "code",
   "execution_count": null,
   "metadata": {},
   "outputs": [],
   "source": [
    "import weight_loop\n",
    "for idx, v_model in enumerate(model.validation_models):\n",
    "    if idx == 0:\n",
    "        continue\n",
    "    weight_loop.create_reweighted_h5_global(v_model,new_name=f'west_reweight_c10_block_to20_v2-try2_v{idx}.h5')"
   ]
  },
  {
   "cell_type": "markdown",
   "metadata": {},
   "source": [
    "# Main model Output"
   ]
  },
  {
   "cell_type": "code",
   "execution_count": null,
   "metadata": {},
   "outputs": [],
   "source": [
    "import weight_loop\n",
    "\n",
    "weight_loop.create_reweighted_h5_global(model, west_name='west_nocoords.h5', copy=True, struct_filetype='ncrst', new_name=f'west_reweight.h5', gen_sstates=True, pdb_out=False, link_out=True, link_path=\"/ocean/projects/mcb180038p/jml230/bdpa_wsh2029_p3_r3\",)"
   ]
  },
  {
   "cell_type": "code",
   "execution_count": null,
   "metadata": {},
   "outputs": [],
   "source": [
    "import weight_loop\n",
    "\n",
    "weight_loop.create_reweighted_h5_global(model, west_name='west_nocoords.h5', copy=True, struct_filetype='ncrst', new_name=f'west_restart345_reweight-vamp.h5', gen_sstates=False, pdb_out=False, link_out=False, link_path=\"/ocean/projects/mcb180038p/jml230/bdpa_wsh2029_p3_r3\",)"
   ]
  },
  {
   "cell_type": "code",
   "execution_count": null,
   "metadata": {},
   "outputs": [],
   "source": []
  },
  {
   "cell_type": "markdown",
   "metadata": {},
   "source": [
    "# Extract transition state (pseudo-committor of a certain range)"
   ]
  },
  {
   "cell_type": "code",
   "execution_count": null,
   "metadata": {},
   "outputs": [],
   "source": [
    "from copy import deepcopy\n",
    "import numpy as np\n",
    "import numpy\n",
    "from tqdm.auto import tqdm\n",
    "ranges = [(0,0.2), (0.2,0.4),(0.4,0.6),(0.6,0.8),(0.8,1), (0,0.1),(0.1,0.2),(0.8,0.9),(0.9,1), (0,0.3), (0.3,0.6),(0.6,1),(0.45,0.55)]\n",
    "#ranges = [(0.4,0.6),(0.45,0.55)]\n",
    "#ranges = [(0.35,0.45)]\n",
    "\n",
    "# specify upper, lower range.\n",
    "for val in tqdm(ranges):\n",
    "    under = np.argwhere(model.q < val[1])\n",
    "    over = np.argwhere(model.q > val[0])\n",
    "\n",
    "    both = [i for [i] in under if i in over]\n",
    "    both\n",
    "    output_pseudocommittor(val[0],val[1],both)"
   ]
  },
  {
   "cell_type": "code",
   "execution_count": null,
   "metadata": {},
   "outputs": [],
   "source": [
    "# Parsing through the list so we get the real seg number (and the file number as well)\n",
    "from copy import deepcopy\n",
    "import numpy\n",
    "\n",
    "def output_validation_pseudocommittor(lower, upper, both, x):\n",
    "    # Finding all the iter/seg_index\n",
    "    output = []\n",
    "    for j in range(0, len(model.validation_models[x].dtrajs)):\n",
    "        val = numpy.argwhere(numpy.isin(model.validation_models[x].dtrajs[j], both))\n",
    "        #print(j+1, numpy.squeeze(val,axis=1))\n",
    "        output.append([j+1, numpy.squeeze(val, axis=1)])\n",
    "    #print(output)\n",
    "    output2 = [[val[0], seg] for val in output for seg in val[1] if val[0] in model.validation_iterations[x]]\n",
    "    print(output2)\n",
    "\n",
    "    file_list = []\n",
    "    for file in model.fileList:\n",
    "        with h5py.File(file,'r') as f:\n",
    "            file_list.append(f['summary']['n_particles'])\n",
    "\n",
    "    #print(file_list)\n",
    "    output3 = deepcopy(output2)\n",
    "\n",
    "    for j in output3:\n",
    "        seg_index = j[1]\n",
    "        tol = 0\n",
    "        for i in range(0,len(file_list)):\n",
    "            tol += file_list[i][j[0]-1]\n",
    "            #print(i, tol, seg_index)\n",
    "            if seg_index < tol:\n",
    "                #print('break')\n",
    "                break\n",
    "            #print(tol)\n",
    "        if i != 0: \n",
    "            #print('here')\n",
    "            tol -= file_list[i][j[0]-1]\n",
    "            j[1] -= tol\n",
    "        else:\n",
    "            j[1] = seg_index\n",
    "        j.insert(0,i+1)\n",
    "\n",
    "    output3 = numpy.asarray(output3)\n",
    "    with open(f'transition_state/validation_models/transition_state_validation{x}_{lower}to{upper}.npy','wb') as fo:\n",
    "        numpy.save(fo,output3)\n",
    "    output3"
   ]
  },
  {
   "cell_type": "code",
   "execution_count": null,
   "metadata": {},
   "outputs": [],
   "source": [
    "from copy import deepcopy\n",
    "import numpy as np\n",
    "import numpy\n",
    "from tqdm.auto import tqdm,trange\n",
    "ranges = [(0,0.2), (0.2,0.4),(0.4,0.6),(0.6,0.8),(0.8,1), (0,0.1),(0.1,0.2),(0.8,0.9),(0.9,1), (0,0.3), (0.3,0.6),(0.6,1),(0.45,0.55)]\n",
    "#ranges = [(0.4,0.6),(0.45,0.55),(0.35,0.45)]\n",
    "# ranges = [(0.45,0.55)]\n",
    "\n",
    "# specify upper, lower range.\n",
    "for j in trange(len(model.validation_models)):\n",
    "    for val in tqdm(ranges):\n",
    "        under = np.argwhere(model.validation_models[j].q < val[1])\n",
    "        over = np.argwhere(model.validation_models[j].q > val[0])\n",
    "\n",
    "        both = [i for [i] in under if i in over]\n",
    "        print(both)\n",
    "        output_validation_pseudocommittor(val[0],val[1],both,j)"
   ]
  },
  {
   "cell_type": "code",
   "execution_count": null,
   "metadata": {},
   "outputs": [],
   "source": []
  },
  {
   "cell_type": "code",
   "execution_count": null,
   "metadata": {},
   "outputs": [],
   "source": []
  },
  {
   "cell_type": "code",
   "execution_count": null,
   "metadata": {},
   "outputs": [],
   "source": []
  },
  {
   "cell_type": "code",
   "execution_count": null,
   "metadata": {},
   "outputs": [],
   "source": [
    "# OLDER VERSIONS"
   ]
  },
  {
   "cell_type": "code",
   "execution_count": null,
   "metadata": {},
   "outputs": [],
   "source": [
    "from copy import deepcopy\n",
    "import numpy as np\n",
    "import numpy\n",
    "from tqdm.auto import tqdm\n",
    "ranges = [(0.45,0.55),(0,0.2), (0.2,0.4),(0.4,0.6),(0.6,0.8),(0.8,1), (0,0.1),(0.1,0.2),(0.8,0.9),(0.9,1), (0,0.3), (0.3,0.6),(0.6,1)]\n",
    "\n",
    "# specify upper, lower range.\n",
    "for val in tqdm(ranges):\n",
    "    under = np.argwhere(model.q < val[1])\n",
    "    over = np.argwhere(model.q > val[0])\n",
    "\n",
    "    both = [i for [i] in under if i in over]\n",
    "    both\n",
    "    output_pseudocommittor(val[0],val[1],both)"
   ]
  },
  {
   "cell_type": "code",
   "execution_count": null,
   "metadata": {},
   "outputs": [],
   "source": [
    "ray.shutdown()"
   ]
  },
  {
   "cell_type": "code",
   "execution_count": null,
   "metadata": {},
   "outputs": [],
   "source": [
    "# Parsing through the list so we get the real seg number (and the file number as well)\n",
    "from copy import deepcopy\n",
    "import numpy\n",
    "\n",
    "def output_pseudocommittor(lower, upper, both):\n",
    "    # Finding all the iter/seg_index\n",
    "    output = []\n",
    "    for j in range(0, len(model.dtrajs)):\n",
    "        val = numpy.argwhere(numpy.isin(model.dtrajs[j], both))\n",
    "        #print(j+1, numpy.squeeze(val,axis=1))\n",
    "        output.append([j+1, numpy.squeeze(val, axis=1)])\n",
    "    output2 = [[val[0], seg] for val in output for seg in val[1]]\n",
    "    #output2\n",
    "\n",
    "    file_list = []\n",
    "    for file in model.fileList:\n",
    "        with h5py.File(file,'r') as f:\n",
    "            file_list.append(f['summary']['n_particles'])\n",
    "\n",
    "    output3 = deepcopy(output2)\n",
    "\n",
    "    for j in output3:\n",
    "        seg_index = j[1]\n",
    "        tol = 0\n",
    "        for i in range(0,len(file_list)):\n",
    "            tol += file_list[i][j[0]-1]\n",
    "            #print(i, tol, seg_index)\n",
    "            if seg_index < tol:\n",
    "                #print('break')\n",
    "                break\n",
    "            #print(tol)\n",
    "        if i != 0: \n",
    "            #print('here')\n",
    "            tol -= file_list[i][j[0]-1]\n",
    "            j[1] -= tol\n",
    "        else:\n",
    "            j[1] = seg_index\n",
    "        j.insert(0,i+1)\n",
    "\n",
    "    output3 = numpy.asarray(output3)\n",
    "    with open(f'transition_state/transition_state_{lower}to{upper}.npy','wb') as fo:\n",
    "        numpy.save(fo,output3)\n",
    "    output3"
   ]
  },
  {
   "cell_type": "code",
   "execution_count": null,
   "metadata": {},
   "outputs": [],
   "source": [
    "# Double check to see that I didn't do something odd\n",
    "numpy.argwhere(output3<0)"
   ]
  },
  {
   "cell_type": "code",
   "execution_count": null,
   "metadata": {},
   "outputs": [],
   "source": []
  },
  {
   "cell_type": "markdown",
   "metadata": {},
   "source": [
    "# Plotting and Stuff"
   ]
  },
  {
   "cell_type": "code",
   "execution_count": null,
   "metadata": {},
   "outputs": [],
   "source": [
    "# Lets get the list of file all here\n",
    "listf = []\n",
    "for idx in range(1,6):\n",
    "    #listf.append(f\"restart0_scikit_nowat/run{idx}/west_reweight_c10_block_to20_v2-try2_v0.h5\")\n",
    "    listf.append(f\"restart0_scikit_nowat/run{idx}/west_reweight_c10_block_to20_v2-try2_v1.h5\")\n",
    "    #listf.append(f\"restart0_scikit_nowat/run{idx}/west_reweight_c10_block_to20_v2.h5\")\n",
    "    \n",
    "file_path = listf[0].rsplit('.',maxsplit=1)[0]\n",
    "print(file_path)"
   ]
  },
  {
   "cell_type": "code",
   "execution_count": null,
   "metadata": {},
   "outputs": [],
   "source": [
    "# Generating the cool text file\n",
    "import numpy\n",
    "from tqdm.auto import tqdm\n",
    "\n",
    "aux = 'RoG'\n",
    "\n",
    "with open(f'{file_path}_RoG_iter.dat', 'w') as g:\n",
    "    for idx, stuff in enumerate(listf):\n",
    "        f = h5py.File(stuff, 'r')\n",
    "        for i in tqdm(range(1,301), desc=f\"File {idx+1}\"): # change indices to number of iteration\n",
    "            i = str(i)\n",
    "            iteration = \"iter_\" + str(numpy.char.zfill(i,8))\n",
    "            s = f['iterations'][iteration]['seg_index'].shape[0]\n",
    "            r1 = f['iterations'][iteration]['auxdata'][aux][:,-1] # These are the auxillary coordinates you're looking for\n",
    "            r2 = f['iterations'][iteration]['seg_index']['weight'][:] # These are the auxillary coordinates you're looking for\n",
    "            for j in range(0,s):\n",
    "                array1=[]\n",
    "                array1 = r2 # Weights normalized across whole simulation\n",
    "                g.write(str(array1[j]) + \"\\t\" + str(r1[j]) + \"\\n\")"
   ]
  },
  {
   "cell_type": "code",
   "execution_count": null,
   "metadata": {},
   "outputs": [],
   "source": [
    "# Loading Data\n",
    "import numpy\n",
    "block_new0_wt, block_new0_data = numpy.loadtxt('restart0_scikit_nowat/run1/west_reweight_c10_block_to20_v2_v0_RoG_iter.dat',usecols=(0,1), unpack=True)\n",
    "block_new1_wt, block_new1_data = numpy.loadtxt('restart0_scikit_nowat/run1/west_reweight_c10_block_to20_v2-try2_v1_RoG_iter.dat',usecols=(0,1), unpack=True)\n",
    "block_main_wt, block_main_data = numpy.loadtxt('restart0_scikit_nowat/run1/west_reweight_c10_block_to20_v2_RoG_iter.dat',usecols=(0,1), unpack=True)\n",
    "\n",
    "global_wt, global_data = numpy.loadtxt('restart0_scikit_nowat/run1/wsh2045_reweight_global_rmsheavy_iter.dat',usecols=(0,1), unpack=True)\n",
    "raw_wt, raw_data = numpy.loadtxt( 'restart0_scikit_nowat/run1/wsh2045_reweight_rmsheavy_iter.dat',usecols=(0,1), unpack=True)"
   ]
  },
  {
   "cell_type": "code",
   "execution_count": null,
   "metadata": {},
   "outputs": [],
   "source": [
    "block_new0b_wt, block_new0b_data = numpy.loadtxt('restart0_scikit_nowat/run1/west_reweight_c10_block_v0b_mod_rmsheavy_iter.dat',usecols=(0,1), unpack=True)\n",
    "block_new1b_wt, block_new1b_data = numpy.loadtxt('restart0_scikit_nowat/run1/west_reweight_c10_block_v1b_mod_rmsheavy_iter.dat',usecols=(0,1), unpack=True)"
   ]
  },
  {
   "cell_type": "code",
   "execution_count": null,
   "metadata": {},
   "outputs": [],
   "source": [
    "# Colors and Labels and other parameters\n",
    "import matplotlib\n",
    "import matplotlib.pyplot as plt\n",
    "wsh2045color = (0,0,0,1)\n",
    "wsh2029color = (0.867,0.317,0.5098,1)\n",
    "wsh2036color = (1,0.431,0.32994,1)\n",
    "wsh2057color = (1,0.651,0,1)\n",
    "wsh2044color = (0.267,0.306,0.525,1)\n",
    "wsh2054color = (0.584,0.3176,0.588,1)\n",
    "colors = [wsh2045color, wsh2054color, wsh2029color, wsh2057color, wsh2044color, wsh2054color]\n",
    "#data = [raw_wt, global_wt, block_main_wt, block_new0_wt, block_new1_wt]\n",
    "plt.rcParams.update({'figure.figsize': [4.5,4.5], 'font.size': 17.5, 'figure.dpi': 300, 'font.family': 'Arial',\n",
    "                     'ytick.major.width': 2, 'xtick.major.width': 2, 'axes.linewidth': 2})\n",
    "labels = [u'Raw', u'Old, Global Aggregated', u'New Stratified Model', u'New Stratified Validation Model 0', u'New Stratified Validation Model 1']\n",
    "transparency=[1,1,0.25,0.5, 0.5]"
   ]
  },
  {
   "cell_type": "code",
   "execution_count": null,
   "metadata": {},
   "outputs": [],
   "source": [
    "# For the Legend\n",
    "from matplotlib.lines import Line2D\n",
    "custom_lines = [Line2D([0], [0], color=colors[1], alpha=transparency[1], lw=4),\n",
    "                Line2D([0], [0], color=colors[2], alpha=transparency[0], lw=4),\n",
    "                Line2D([0], [0], color=colors[3], alpha=transparency[3], lw=4),\n",
    "                Line2D([0], [0], color=colors[4], alpha=transparency[4], lw=4),\n",
    "                Line2D([0], [0], color=colors[0], alpha=transparency[0], lw=4),]\n",
    "\n",
    "labels = [u'all data',\n",
    "          'block 1',\n",
    "          u'block 2',\n",
    "          'run 4',\n",
    "          u'run 5']"
   ]
  },
  {
   "cell_type": "code",
   "execution_count": null,
   "metadata": {},
   "outputs": [],
   "source": [
    "# Everything\n",
    "for i,dataset in enumerate(data):\n",
    "    plt.hist(dataset,bins=100, color=colors[i], range=(0,0.001), histtype='bar', log=True, alpha=transparency[i], label=labels[i])\n",
    "plt.legend()\n",
    "plt.title('Distribution of Weights');\n",
    "plt.savefig('new_stratified_c10_plots/all_weight_dist.png',dpi=300)"
   ]
  },
  {
   "cell_type": "code",
   "execution_count": null,
   "metadata": {},
   "outputs": [],
   "source": [
    "# Before Reweighting\n",
    "plt.hist(data[0], bins=300, color=colors[0], range=(0,0.001),log=True)\n",
    "plt.title(labels[0]);\n",
    "plt.xlabel('Weights')\n",
    "plt.ylabel('Counts')\n",
    "plt.savefig('new_stratified_c10_plots/raw_weight_dist.png', dpi=300)"
   ]
  },
  {
   "cell_type": "code",
   "execution_count": null,
   "metadata": {},
   "outputs": [],
   "source": [
    "# Global Reweighting (Way before Stratified)\n",
    "plt.hist(data[1], bins=300, color=colors[1], range=(0,0.001), log=True)\n",
    "plt.title(labels[1])\n",
    "plt.xlabel('Weights')\n",
    "plt.ylabel('Counts')\n",
    "plt.savefig('new_stratified_c10_plots/old_global_dist.png',dpi=300)"
   ]
  },
  {
   "cell_type": "code",
   "execution_count": null,
   "metadata": {},
   "outputs": [],
   "source": [
    "# New Stratified Main Model Reweighting\n",
    "plt.hist(data[2], bins=300, color=colors[2], range=(0,0.001), log=True)\n",
    "plt.title(labels[2])\n",
    "plt.xlabel('Weights')\n",
    "plt.ylabel('Counts')\n",
    "plt.savefig('new_stratified_c10_plots/new_main_model_dist.png',dpi=300)"
   ]
  },
  {
   "cell_type": "code",
   "execution_count": null,
   "metadata": {},
   "outputs": [],
   "source": [
    "# New Stratified Validation Model 0 Reweighting\n",
    "plt.hist(data[3], bins=300, color=colors[3], range=(0,0.001), log=True)\n",
    "plt.title(labels[3])\n",
    "plt.xlabel('Weights')\n",
    "plt.ylabel('Counts')\n",
    "plt.savefig('new_stratified_c10_plots/new_model_v0_dist.png',dpi=300)"
   ]
  },
  {
   "cell_type": "code",
   "execution_count": null,
   "metadata": {},
   "outputs": [],
   "source": [
    "# New Stratified Validation Model 1 Reweighting\n",
    "plt.hist(data[4], bins=300, color=colors[4], range=(0,0.001), log=True)\n",
    "plt.title(labels[4])\n",
    "plt.xlabel('Weights')\n",
    "plt.ylabel('Counts')\n",
    "plt.savefig('new_stratified_c10_plots/new_model_v1_dist.png',dpi=300)"
   ]
  },
  {
   "cell_type": "code",
   "execution_count": null,
   "metadata": {},
   "outputs": [],
   "source": [
    "# Block Reweighting (Main Model + Validation Sets 0 + 1)\n",
    "plt.hist(block_main_wt, bins=300, color=colors[0], range=(0,0.001), log=True, label=labels[2], \n",
    "         alpha=transparency[3])\n",
    "plt.hist(block_new0_wt, bins=300, color=colors[3], range=(0,0.001), log=True, label=labels[3], \n",
    "         alpha=transparency[3])\n",
    "plt.hist(block_new1_wt, bins=300, color=colors[4], range=(0,0.001), log=True, label=labels[4], \n",
    "         alpha=transparency[4])\n",
    "plt.legend()\n",
    "plt.xlabel('probability weights')\n",
    "plt.ylabel('counts')\n",
    "plt.title(u'Block Reweighted (Main + Validation Sets 0 + 1)');\n",
    "#plt.savefig('new_stratified_c10_plots/new_model_all_dist.png',dpi=300)"
   ]
  },
  {
   "cell_type": "code",
   "execution_count": null,
   "metadata": {},
   "outputs": [],
   "source": [
    "# Block Reweighting (Everything)\n",
    "\n",
    "plt.hist(raw_data, bins=100, color=colors[0], histtype='step', weights=raw_wt, label=labels[0])\n",
    "#plt.hist(global_data, bins=100, color=colors[1], histtype='step', weights=global_wt, label=labels[1])\n",
    "plt.hist(block_main_data, bins=100, color=colors[2], weights=block_main_wt, label=labels[2])\n",
    "plt.hist(block_new0_data, bins=100, color=colors[3], histtype = 'step', weights=block_new0_wt, label='Validation Model 0')\n",
    "plt.hist(block_new1_data, bins=100, color=colors[4], histtype = 'step', weights=block_new1_wt, label='Validation Model 1')\n",
    "\n",
    "plt.title(u'RMSD to Folded State');\n",
    "plt.legend()\n",
    "plt.xlabel(u'RMSD to folded state (\\u212B)')\n",
    "plt.ylabel('probability weights')\n",
    "plt.savefig('new_stratified_c10_plots/new_model_rmsd_heavy_dist.png',dpi=300)\n"
   ]
  },
  {
   "cell_type": "code",
   "execution_count": null,
   "metadata": {},
   "outputs": [],
   "source": [
    "# Just the main + validation models\n",
    "plt.hist(block_main_data, bins=100, range=(11,18), color=colors[2], histtype = 'step', weights=block_main_wt, label=labels[2])\n",
    "plt.hist(block_new0_data, bins=100, range=(11,18), color=colors[3], histtype = 'step', weights=block_new0_wt, label='Validation Model 0')\n",
    "plt.hist(block_new1_data, bins=100, range=(11,18), color=colors[4], histtype = 'step', weights=block_new1_wt, label='Validation Model 1')\n",
    "\n",
    "#plt.title(u'RMSD to Folded State, Comparison with Same Cluster Models');\n",
    "#plt.legend()\n",
    "#plt.xlabel(u'RMSD to folded state (\\u212B)')\n",
    "#plt.ylabel('probability weights')\n",
    "plt.ylabel('probability')\n",
    "plt.xlabel(r'$\\it{Rg}$ (Å)')\n",
    "plt.legend(custom_lines[1:4], labels[:3], frameon=False)\n",
    "plt.tight_layout()\n",
    "plt.savefig('RoG_block_comp_haMSM_runs.pdf',dpi=300)\n",
    "plt.savefig('RoG_block_comp_haMSM_runs.png', dpi=300)\n",
    "#plt.savefig('new_stratified_c10_plots/new_model_rmsd_heavy_main_dist.png',dpi=300)"
   ]
  },
  {
   "cell_type": "code",
   "execution_count": null,
   "metadata": {},
   "outputs": [],
   "source": [
    "# Just the main + validation models\n",
    "plt.hist(block_main_data, bins=100, range=(11,17), color=colors[2], histtype = 'step', weights=block_main_wt, label=labels[2])\n",
    "plt.hist(block_new0_data, bins=100, range=(11,17), color=colors[3], histtype = 'step', weights=block_new0_wt, label='Validation Model 0')\n",
    "plt.hist(block_new1_data, bins=100, range=(11,17), color=colors[4], histtype = 'step', weights=block_new1_wt, label='Validation Model 1')\n",
    "\n",
    "plt.title(u'RMSD to Folded State, Comparison with Same Cluster Models');\n",
    "plt.legend()\n",
    "plt.xlabel(u'RMSD to folded state (\\u212B)')\n",
    "plt.ylabel('probability weights')\n",
    "#plt.savefig('new_stratified_c10_plots/new_model_rmsd_heavy_main_dist.png',dpi=300)"
   ]
  },
  {
   "cell_type": "code",
   "execution_count": null,
   "metadata": {},
   "outputs": [],
   "source": [
    "plt.hist(block_main_data, bins=100, color=colors[2], weights=block_main_wt, label='Main Model')\n",
    "plt.hist(block_new0b_data, bins=100, color=colors[3], histtype = 'step', weights=block_new0b_wt, label='Validation Model 0b')\n",
    "plt.hist(block_new1b_data, bins=100, color=colors[4], histtype = 'step', weights=block_new1b_wt, label='Validation Model 1b')\n",
    "\n",
    "plt.title(u'RMSD to Folded State, Comparison with Reclustered Models');\n",
    "plt.legend()\n",
    "plt.xlabel(u'RMSD to folded state (\\u212B)')\n",
    "plt.ylabel('probability weights')\n",
    "plt.savefig('new_stratified_c10_plots/new_model_rmsd_heavy_main_dist2.png',dpi=300)"
   ]
  },
  {
   "cell_type": "code",
   "execution_count": null,
   "metadata": {},
   "outputs": [],
   "source": [
    "import numpy\n",
    "import matplotlib.pyplot as plt\n",
    "block_main_sasa_wt, block_main_sasa = numpy.loadtxt('restart0_scikit_nowat/run1/west_reweight_c10_block_mod_totalSASA_iter.dat',usecols=(0,1), unpack=True);\n",
    "block_2029_sasa_wt, block_2029_sasa = numpy.loadtxt('../bdpa_wsh2029_p2_haMSM/restart0_scikit_nowat/run1/west_reweight_c10_block_totalSASA_iter.dat',usecols=(0,1), unpack=True);\n",
    "\n",
    "plt.hist(block_main_sasa, bins=100, color=colors[0], histtype='step', weights=block_main_sasa_wt, label='WT')\n",
    "plt.hist(block_2029_sasa, bins=100, color=colors[1], histtype='step', weights=block_2029_sasa_wt, label='\\u03B2\\u00B3 H2')\n",
    "plt.title(u'Total SASA');\n",
    "plt.legend()\n",
    "plt.xlabel(u'Total SASA (\\u212B\\u00B2)')\n",
    "plt.ylabel('probability weights')\n",
    "plt.savefig('new_stratified_c10_plots/new_model_totalSASA_main_dist.png',dpi=300)"
   ]
  },
  {
   "cell_type": "code",
   "execution_count": null,
   "metadata": {},
   "outputs": [],
   "source": [
    "import numpy\n",
    "import matplotlib.pyplot as plt\n",
    "block_main_RoG_wt, block_main_RoG = numpy.loadtxt('restart0_scikit_nowat/run1/west_reweight_c10_block_mod_RoG_iter.dat',usecols=(0,1), unpack=True);\n",
    "block_2029_RoG_wt, block_2029_RoG = numpy.loadtxt('../bdpa_wsh2029_p2_haMSM/restart0_scikit_nowat/run1/west_reweight_c10_block_RoG_iter.dat',usecols=(0,1), unpack=True);\n",
    "\n",
    "\n",
    "plt.hist(block_main_RoG, bins=100, color=colors[0], histtype = 'step', weights=block_main_RoG_wt, label='WT')\n",
    "plt.hist(block_2029_RoG, bins=100, color=colors[1], histtype = 'step', weights=block_2029_RoG_wt, label=u'\\u03B2\\u00B3 H2')\n",
    "plt.title(u'Radius of Gyration');\n",
    "plt.legend()\n",
    "plt.xlabel(u'RoG (\\u212B)')\n",
    "plt.ylabel('probability weights')\n",
    "plt.savefig('new_stratified_c10_plots/new_model_RoG_main_dist.png',dpi=300)"
   ]
  },
  {
   "cell_type": "code",
   "execution_count": null,
   "metadata": {},
   "outputs": [],
   "source": [
    "import numpy\n",
    "import matplotlib.pyplot as plt\n",
    "block_main_pCH_wt, block_main_pHC = numpy.loadtxt('restart0_scikit_nowat/run1/west_reweight_c10_block_mod_percentContacts_iter.dat',usecols=(0,1), unpack=True);\n",
    "block_2029_pHC_wt, block_2029_pHC = numpy.loadtxt('../bdpa_wsh2029_p2_haMSM/restart0_scikit_nowat/run1/west_reweight_c10_block_percentContacts_iter.dat',usecols=(0,1), unpack=True);\n",
    "\n",
    "plt.hist(block_main_pHC, bins=100, color=colors[0], histtype = 'step', weights=block_main_RoG_wt, label='WT')\n",
    "plt.hist(block_2029_pHC, bins=100, color=colors[1], histtype = 'step', weights=block_2029_pHC_wt, label=u'\\u03B2\\u00B3 H2')\n",
    "plt.title(u'Percent of Native Contacts');\n",
    "plt.legend()\n",
    "plt.xlabel(u'Percent of Native Contacts')\n",
    "plt.ylabel('probability weights')\n",
    "plt.savefig('new_stratified_c10_plots/new_model_percentContacts_main_dist.png',dpi=300)"
   ]
  },
  {
   "cell_type": "code",
   "execution_count": null,
   "metadata": {},
   "outputs": [],
   "source": [
    "import numpy\n",
    "import matplotlib.pyplot as plt\n",
    "block_main_pCH_wt, block_main_pHC = numpy.loadtxt('restart0_scikit_nowat/run1/west_reweight_c10_block_to20_rms_iter.dat',usecols=(0,1), unpack=True);\n",
    "block_main_pCH_wt2, block_main_pHC2 = numpy.loadtxt('restart0_scikit_nowat/run1/west_reweight_c10_block_rms_iter.dat',usecols=(0,1), unpack=True);\n",
    "raw_wt, raw_data = numpy.loadtxt( 'restart0_scikit_nowat/run1/wsh2045_reweight_rmsheavy_iter.dat',usecols=(0,1), unpack=True)\n",
    "\n",
    "plt.hist(block_main_pHC, bins=100, color=colors[0], histtype = 'step', weights=block_main_pCH_wt, label='WT-extended bins')\n",
    "plt.hist(block_main_pHC2, bins=100, color=colors[1], histtype = 'step', weights=block_main_pCH_wt2, label='old WT')\n",
    "plt.hist(raw_data, bins=100, color=colors[3], histtype = 'step', weights=raw_wt, label='Raw')\n",
    "plt.title(u'RMSD to folded state');\n",
    "plt.legend()\n",
    "plt.xlabel(u'RMSD to folded state')\n",
    "plt.ylabel('probability weights')\n",
    "#plt.savefig('new_stratified_c10_plots/new_model_percentContacts_main_dist.png',dpi=300)"
   ]
  },
  {
   "cell_type": "code",
   "execution_count": null,
   "metadata": {},
   "outputs": [],
   "source": [
    "import numpy\n",
    "import matplotlib.pyplot as plt\n",
    "block_main_pCH_wt, block_main_rms = numpy.loadtxt('restart0_scikit_nowat/run1/west_reweight_c10_block_to20_v2_rms_iter.dat',usecols=(0,1), unpack=True);\n",
    "block_main_pCH_wt, block_main_rms_0b = numpy.loadtxt('west_reweight_c10_block_to20_v2_v0b_rms_iter.dat',usecols=(0,1), unpack=True);\n",
    "block_main_pCH_wt2, block_main_pHC2 = numpy.loadtxt('west_reweight_c10_block_to20_v2_v1b_rms_iter.dat',usecols=(0,1), unpack=True);\n",
    "raw_wt, raw_data = numpy.loadtxt( 'restart0_scikit_nowat/run1/wsh2045_reweight_rmsheavy_iter.dat',usecols=(0,1), unpack=True)\n",
    "\n",
    "plt.hist(block_main_pHC, bins=100, color=colors[0], histtype = 'step', weights=block_main_pCH_wt, label='WT-extended bins')\n",
    "plt.hist(block_main_pHC2, bins=100, color=colors[1], histtype = 'step', weights=block_main_pCH_wt2, label='old WT')\n",
    "plt.hist(raw_data, bins=100, color=colors[3], histtype = 'step', weights=raw_wt, label='Raw')\n",
    "plt.title(u'RMSD to folded state');\n",
    "plt.legend()\n",
    "plt.xlabel(u'RMSD to folded state')\n",
    "plt.ylabel('probability weights')\n",
    "#plt.savefig('new_stratified_c10_plots/new_model_percentContacts_main_dist.png',dpi=300)"
   ]
  },
  {
   "cell_type": "code",
   "execution_count": null,
   "metadata": {},
   "outputs": [],
   "source": [
    "model.fluxMatrix"
   ]
  },
  {
   "cell_type": "code",
   "execution_count": null,
   "metadata": {},
   "outputs": [],
   "source": [
    "model.Tmatrix[0,1]"
   ]
  },
  {
   "cell_type": "code",
   "execution_count": null,
   "metadata": {},
   "outputs": [],
   "source": [
    "model.Tmatrix[1,0]\n"
   ]
  },
  {
   "cell_type": "code",
   "execution_count": null,
   "metadata": {},
   "outputs": [],
   "source": [
    "import pyemma\n",
    "import msmtools\n",
    "import numpy"
   ]
  },
  {
   "cell_type": "code",
   "execution_count": null,
   "metadata": {},
   "outputs": [],
   "source": [
    "sym_matrix = (model.Tmatrix.T + model.Tmatrix) \n",
    "sym_matrix = sym_matrix/sym_matrix.sum(axis=1, keepdims=1)\n",
    "msmtools.analysis.is_transition_matrix(sym_matrix)"
   ]
  },
  {
   "cell_type": "code",
   "execution_count": null,
   "metadata": {},
   "outputs": [],
   "source": [
    "import pyemma\n",
    "import msmtools\n",
    "pcca_model = pyemma.msm.markov_model(sym_matrix,'100 ps')\n",
    "pcca_model.is_reversible = True"
   ]
  },
  {
   "cell_type": "code",
   "execution_count": null,
   "metadata": {},
   "outputs": [],
   "source": [
    "pcca_model"
   ]
  },
  {
   "cell_type": "code",
   "execution_count": null,
   "metadata": {},
   "outputs": [],
   "source": [
    "nstates=10\n",
    "pcca_model.pcca(nstates)"
   ]
  },
  {
   "cell_type": "code",
   "execution_count": null,
   "metadata": {},
   "outputs": [],
   "source": [
    "pcca_model._metastable_memberships[0]"
   ]
  },
  {
   "cell_type": "markdown",
   "metadata": {},
   "source": [
    "# Now to test new things"
   ]
  },
  {
   "cell_type": "code",
   "execution_count": null,
   "metadata": {},
   "outputs": [],
   "source": [
    "import weight_loop\n",
    "weight_loop.create_reweighted_h5_global(model,new_name='west_reweight_block_new.h5')"
   ]
  },
  {
   "cell_type": "markdown",
   "metadata": {},
   "source": [
    "# TROUBLE SHOOTING"
   ]
  },
  {
   "cell_type": "code",
   "execution_count": null,
   "metadata": {},
   "outputs": [],
   "source": [
    "model.get_eqTmatrix()\n",
    "model.Tmatrix.shape"
   ]
  },
  {
   "cell_type": "code",
   "execution_count": null,
   "metadata": {},
   "outputs": [],
   "source": [
    "model.indBasis, model.indTargets = np.array([]),np.array([])"
   ]
  },
  {
   "cell_type": "code",
   "execution_count": null,
   "metadata": {},
   "outputs": [],
   "source": [
    "model.pSS"
   ]
  },
  {
   "cell_type": "code",
   "execution_count": null,
   "metadata": {},
   "outputs": [],
   "source": [
    "model.Tmatrix.shape\n"
   ]
  },
  {
   "cell_type": "code",
   "execution_count": null,
   "metadata": {},
   "outputs": [],
   "source": [
    "model.Tmatrix[-1]\n"
   ]
  },
  {
   "cell_type": "code",
   "execution_count": null,
   "metadata": {},
   "outputs": [],
   "source": [
    "model.Tmatrix[0]"
   ]
  },
  {
   "cell_type": "code",
   "execution_count": null,
   "metadata": {},
   "outputs": [],
   "source": [
    "import numpy\n",
    "a = []\n",
    "for w in range(0,len(model.dtrajs)):\n",
    "    a = numpy.append(a, model.dtrajs[w])\n",
    "\n",
    "for z in range(0,131):\n",
    "    if z not in a:\n",
    "        print(z)"
   ]
  }
 ],
 "metadata": {
  "kernelspec": {
   "display_name": "hamsm_env",
   "language": "python",
   "name": "hamsm_env"
  },
  "language_info": {
   "codemirror_mode": {
    "name": "ipython",
    "version": 3
   },
   "file_extension": ".py",
   "mimetype": "text/x-python",
   "name": "python",
   "nbconvert_exporter": "python",
   "pygments_lexer": "ipython3",
   "version": "3.10.11"
  }
 },
 "nbformat": 4,
 "nbformat_minor": 5
}
